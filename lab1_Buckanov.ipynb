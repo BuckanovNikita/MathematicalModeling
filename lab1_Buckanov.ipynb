{
 "cells": [
  {
   "cell_type": "code",
   "execution_count": 1,
   "metadata": {},
   "outputs": [],
   "source": [
    "import numpy as np\n",
    "import ipywidgets as widgets\n",
    "from scipy.constants import g\n",
    "style = {'description_width': '150px'}"
   ]
  },
  {
   "cell_type": "markdown",
   "metadata": {},
   "source": [
    "# Задание 1\n",
    "\n",
    "Измерение дальности полета тела под угом к горизонту\n",
    "\n",
    "## $x=\\sqrt{\\frac{2*h*u^2}{g}}$"
   ]
  },
  {
   "cell_type": "code",
   "execution_count": 11,
   "metadata": {},
   "outputs": [
    {
     "data": {
      "application/vnd.jupyter.widget-view+json": {
       "model_id": "b9eab860d4fa41708adb7e942b8b541b",
       "version_major": 2,
       "version_minor": 0
      },
      "text/plain": [
       "IntText(value=800, description='скорость м/c:', style=DescriptionStyle(description_width='150px'))"
      ]
     },
     "metadata": {},
     "output_type": "display_data"
    },
    {
     "data": {
      "application/vnd.jupyter.widget-view+json": {
       "model_id": "dba78f8f9de74589a5da382f5d93494d",
       "version_major": 2,
       "version_minor": 0
      },
      "text/plain": [
       "IntText(value=100, description='высота м:', style=DescriptionStyle(description_width='150px'))"
      ]
     },
     "metadata": {},
     "output_type": "display_data"
    }
   ],
   "source": [
    "u_field = widgets.IntText(value=800,description='скорость м/c:', style=style)\n",
    "y_field = widgets.IntText(value=1,description='высота м:', style=style)\n",
    "display(u_field)\n",
    "display(y_field)"
   ]
  },
  {
   "cell_type": "code",
   "execution_count": 14,
   "metadata": {},
   "outputs": [
    {
     "name": "stdout",
     "output_type": "stream",
     "text": [
      "дальность полета 361.28060460143\n"
     ]
    }
   ],
   "source": [
    "x = np.sqrt(2*u_field.value**2*y_field.value/g)\n",
    "print('дальность полета', x)"
   ]
  },
  {
   "cell_type": "markdown",
   "metadata": {},
   "source": [
    "# Задание 2\n",
    "\n",
    "Измерение угла отклонения тела после попадания в него пули\n",
    "\n",
    "Использован закон сохранения энергии\n",
    "\n",
    "## $cos(\\alpha) = 1 - \\frac{m*u^2}{2*(M+m)*g*l} $"
   ]
  },
  {
   "cell_type": "code",
   "execution_count": 4,
   "metadata": {},
   "outputs": [
    {
     "data": {
      "application/vnd.jupyter.widget-view+json": {
       "model_id": "c12ef1c933104c27a3dde099c3c21ac9",
       "version_major": 2,
       "version_minor": 0
      },
      "text/plain": [
       "VBox(children=(IntText(value=800, description='скорость м/c:', style=DescriptionStyle(description_width='150px…"
      ]
     },
     "metadata": {},
     "output_type": "display_data"
    }
   ],
   "source": [
    "m_field = widgets.IntText(value=5,description='масса пули г:', style=style)\n",
    "M_field = widgets.IntText(value=1,description='масса груза кг:', style=style)\n",
    "l_field = widgets.IntText(value=1,description='длина стержня м:', style=style)\n",
    "v_box= widgets.VBox([u_field, m_field, M_field, l_field])\n",
    "display(v_box)"
   ]
  },
  {
   "cell_type": "code",
   "execution_count": 5,
   "metadata": {},
   "outputs": [
    {
     "name": "stderr",
     "output_type": "stream",
     "text": [
      "C:\\Users\\nikita\\Anaconda3\\lib\\site-packages\\ipykernel_launcher.py:6: RuntimeWarning: invalid value encountered in arccos\n",
      "  \n"
     ]
    },
    {
     "data": {
      "text/plain": [
       "(nan, -161.34287967807816)"
      ]
     },
     "execution_count": 5,
     "metadata": {},
     "output_type": "execute_result"
    }
   ],
   "source": [
    "u = u_field.value\n",
    "M = M_field.value\n",
    "m = m_field.value/1000.0\n",
    "l = l_field.value\n",
    "cos_alpha = 1 - m*u**2/(2*(M+m)*g*l)\n",
    "np.arccos(cos_alpha)*180/np.pi, cos_alpha"
   ]
  },
  {
   "cell_type": "markdown",
   "metadata": {},
   "source": [
    "# Задание 3\n",
    "\n",
    "Измерение угла отклонения тела после попадания в него пули\n",
    "\n",
    "Использован закон сохранения энергии и закон сохранения импульса\n",
    "\n",
    "## $ cos(\\alpha) = 1 - \\frac{M*m^2*u^2}{2*(M+m)*g*l} $"
   ]
  },
  {
   "cell_type": "code",
   "execution_count": 6,
   "metadata": {},
   "outputs": [
    {
     "data": {
      "application/vnd.jupyter.widget-view+json": {
       "model_id": "c12ef1c933104c27a3dde099c3c21ac9",
       "version_major": 2,
       "version_minor": 0
      },
      "text/plain": [
       "VBox(children=(IntText(value=800, description='скорость м/c:', style=DescriptionStyle(description_width='150px…"
      ]
     },
     "metadata": {},
     "output_type": "display_data"
    }
   ],
   "source": [
    "display(v_box)"
   ]
  },
  {
   "cell_type": "code",
   "execution_count": 10,
   "metadata": {},
   "outputs": [
    {
     "name": "stdout",
     "output_type": "stream",
     "text": [
      "угол отклонения 79.14724925176122 градусов\n"
     ]
    }
   ],
   "source": [
    "u = u_field.value\n",
    "M = M_field.value\n",
    "m = m_field.value/1000.0\n",
    "l = l_field.value\n",
    "cos_alpha = 1 - M*m**2*u**2/(2*(M+m)*g*l)\n",
    "print('угол отклонения',np.arccos(cos_alpha)*180/np.pi, 'градусов')"
   ]
  }
 ],
 "metadata": {
  "kernelspec": {
   "display_name": "Python 3",
   "language": "python",
   "name": "python3"
  },
  "language_info": {
   "codemirror_mode": {
    "name": "ipython",
    "version": 3
   },
   "file_extension": ".py",
   "mimetype": "text/x-python",
   "name": "python",
   "nbconvert_exporter": "python",
   "pygments_lexer": "ipython3",
   "version": "3.6.6"
  }
 },
 "nbformat": 4,
 "nbformat_minor": 2
}
