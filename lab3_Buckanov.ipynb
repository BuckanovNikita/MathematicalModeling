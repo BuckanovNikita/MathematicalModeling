{
 "cells": [
  {
   "cell_type": "markdown",
   "metadata": {
    "ExecuteTime": {
     "end_time": "2018-10-13T20:26:59.081704Z",
     "start_time": "2018-10-13T20:26:59.077702Z"
    }
   },
   "source": [
    "# Лабораторная работа №3 \n",
    "## Моделирование работы системы ПВО"
   ]
  },
  {
   "cell_type": "code",
   "execution_count": 1,
   "metadata": {
    "ExecuteTime": {
     "end_time": "2018-10-14T08:08:31.846234Z",
     "start_time": "2018-10-14T08:08:31.484143Z"
    }
   },
   "outputs": [],
   "source": [
    "import numpy as np\n",
    "from scipy.constants import g, pi\n",
    "import matplotlib.pyplot as plt\n",
    "from scipy.optimize import minimize\n",
    "import ipywidgets as widgets\n",
    "from ipywidgets import interact, interactive, fixed, interact_manual"
   ]
  },
  {
   "cell_type": "code",
   "execution_count": 2,
   "metadata": {
    "ExecuteTime": {
     "end_time": "2018-10-14T08:08:31.869239Z",
     "start_time": "2018-10-14T08:08:31.858228Z"
    }
   },
   "outputs": [],
   "source": [
    "%matplotlib notebook\n",
    "style = {'description_width': 'initial'}"
   ]
  },
  {
   "cell_type": "code",
   "execution_count": 3,
   "metadata": {
    "ExecuteTime": {
     "end_time": "2018-10-14T08:08:31.926252Z",
     "start_time": "2018-10-14T08:08:31.882234Z"
    }
   },
   "outputs": [],
   "source": [
    "A_button = widgets.FloatText(value = 0, description='Положение точки A', style = style)\n",
    "U0_button = widgets.FloatText(value = 1000, description='Скорость ракеты', style = style)\n",
    "U0__button = widgets.FloatText(value = 2000, description='Скорость противоракеты', style = style)\n",
    "alpha_button = widgets.FloatText(value = pi/4, description='Угол старта ракеты', style = style)\n",
    "err_button = widgets.FloatText(value = 0.01, description='Размер ошибки', style = style)\n",
    "T1_button = widgets.IntText(value = 15, description='Время окончания измерений', style = style)\n",
    "T0_button = widgets.IntText(value = 40, description='Время начала измерений', style = style)"
   ]
  },
  {
   "cell_type": "code",
   "execution_count": 4,
   "metadata": {
    "ExecuteTime": {
     "end_time": "2018-10-14T08:08:32.009263Z",
     "start_time": "2018-10-14T08:08:31.992259Z"
    }
   },
   "outputs": [
    {
     "data": {
      "application/vnd.jupyter.widget-view+json": {
       "model_id": "879dbf439cbe4e46aed7458a528c208a",
       "version_major": 2,
       "version_minor": 0
      },
      "text/plain": [
       "FloatText(value=0.0, description='Положение точки A', style=DescriptionStyle(description_width='initial'))"
      ]
     },
     "metadata": {},
     "output_type": "display_data"
    },
    {
     "data": {
      "application/vnd.jupyter.widget-view+json": {
       "model_id": "5a343ab60abf4723a762e1f7fb79f9f0",
       "version_major": 2,
       "version_minor": 0
      },
      "text/plain": [
       "FloatText(value=1000.0, description='Скорость ракеты', style=DescriptionStyle(description_width='initial'))"
      ]
     },
     "metadata": {},
     "output_type": "display_data"
    },
    {
     "data": {
      "application/vnd.jupyter.widget-view+json": {
       "model_id": "9e588e978c78424fb722ce2ff02ed9e6",
       "version_major": 2,
       "version_minor": 0
      },
      "text/plain": [
       "FloatText(value=2000.0, description='Скорость противоракеты', style=DescriptionStyle(description_width='initia…"
      ]
     },
     "metadata": {},
     "output_type": "display_data"
    },
    {
     "data": {
      "application/vnd.jupyter.widget-view+json": {
       "model_id": "4b0f7f34410f4044b03d9bf5a8a8bffd",
       "version_major": 2,
       "version_minor": 0
      },
      "text/plain": [
       "FloatText(value=0.7853981633974483, description='Угол старта ракеты', style=DescriptionStyle(description_width…"
      ]
     },
     "metadata": {},
     "output_type": "display_data"
    },
    {
     "data": {
      "application/vnd.jupyter.widget-view+json": {
       "model_id": "922be4a8384b4bb8b5775d4326306524",
       "version_major": 2,
       "version_minor": 0
      },
      "text/plain": [
       "FloatText(value=0.01, description='Размер ошибки', style=DescriptionStyle(description_width='initial'))"
      ]
     },
     "metadata": {},
     "output_type": "display_data"
    },
    {
     "data": {
      "application/vnd.jupyter.widget-view+json": {
       "model_id": "402a5f68776845bf8f73d21ea68cb952",
       "version_major": 2,
       "version_minor": 0
      },
      "text/plain": [
       "IntText(value=15, description='Время окончания измерений', style=DescriptionStyle(description_width='initial')…"
      ]
     },
     "metadata": {},
     "output_type": "display_data"
    },
    {
     "data": {
      "application/vnd.jupyter.widget-view+json": {
       "model_id": "6891036dbab241b8a2eb2bef860d3483",
       "version_major": 2,
       "version_minor": 0
      },
      "text/plain": [
       "IntText(value=40, description='Время начала измерений', style=DescriptionStyle(description_width='initial'))"
      ]
     },
     "metadata": {},
     "output_type": "display_data"
    }
   ],
   "source": [
    "display(A_button)\n",
    "display(U0_button)\n",
    "display(U0__button)\n",
    "display(alpha_button)\n",
    "display(err_button)\n",
    "display(T1_button)\n",
    "display(T0_button)"
   ]
  },
  {
   "cell_type": "code",
   "execution_count": 5,
   "metadata": {
    "ExecuteTime": {
     "end_time": "2018-10-14T08:08:32.152297Z",
     "start_time": "2018-10-14T08:08:32.149295Z"
    }
   },
   "outputs": [],
   "source": [
    "A_ = A_button.value\n",
    "u0 = U0_button.value\n",
    "alpha = alpha_button.value\n",
    "err = err_button.value\n",
    "T0 = T0_button.value\n",
    "T1 = T1_button.value\n",
    "u0_ = U0__button.value"
   ]
  },
  {
   "cell_type": "markdown",
   "metadata": {
    "ExecuteTime": {
     "end_time": "2018-10-14T07:28:11.970149Z",
     "start_time": "2018-10-14T07:28:11.921306Z"
    }
   },
   "source": [
    "### Уравнения движения тела брошенного под углом к горизонту:\n",
    "\n",
    "$ x = x_0 + u_0cos(\\alpha)t$\n",
    "\n",
    "$y = y_0 + u_0sin(\\alpha)t - \\frac{gt^2}{2}$ \n",
    "\n",
    "$L = \\frac{u_0^2sin(2\\alpha)}{g}$\n",
    "\n",
    "$t_{полета} = \\frac{2u_0sin(\\alpha)}{g} = 2t_{max}$  "
   ]
  },
  {
   "cell_type": "code",
   "execution_count": 6,
   "metadata": {
    "ExecuteTime": {
     "end_time": "2018-10-14T08:08:32.487371Z",
     "start_time": "2018-10-14T08:08:32.480369Z"
    }
   },
   "outputs": [],
   "source": [
    "flight_time = 2*u0*np.sin(alpha)/g\n",
    "t = np.linspace(0, flight_time, 1000)\n",
    "D = u0**2*np.sin(2*alpha)/g\n",
    "C = 0.75*(D-A_)\n",
    "x = lambda t, alpha1=alpha, x0=0, u0=u0: x0 + u0*np.cos(alpha1)*t\n",
    "y = lambda t, alpha1=alpha, y0=0, u0=u0: y0 + u0*np.sin(alpha1)*t - (g*t**2)/2\n",
    "te = np.linspace(15,T0,26)\n",
    "xe = x(te)\n",
    "ye = y(te)*(1+err*np.random.randn(26))\n",
    "A = np.matrix([xe**2, xe, np.ones(26)]).T\n",
    "koef = np.linalg.inv(A.T*A)*A.T*np.matrix(ye).T\n",
    "#koef = np.linalg.lstsq(A, ye,rcond=None)[0]\n",
    "#koef = np.matrix(koef).T"
   ]
  },
  {
   "cell_type": "markdown",
   "metadata": {
    "ExecuteTime": {
     "end_time": "2018-10-13T20:27:00.716072Z",
     "start_time": "2018-10-13T20:27:00.709069Z"
    }
   },
   "source": [
    "находим точку запуска решая полученное уравнение траектории ракеты\n",
    "\n",
    "угол полета ракеты возмездия находим из уравнения полета тела\n",
    "\n"
   ]
  },
  {
   "cell_type": "code",
   "execution_count": 7,
   "metadata": {
    "ExecuteTime": {
     "end_time": "2018-10-14T08:08:32.822449Z",
     "start_time": "2018-10-14T08:08:32.818446Z"
    }
   },
   "outputs": [],
   "source": [
    "x0 = (-koef[1,0] + np.sqrt(koef[1,0]**2-4*koef[0,0]*koef[2,0]))/(2*koef[0,0])\n",
    "alpha_ = np.arcsin((C-x0)*g/(u0_**2))/2"
   ]
  },
  {
   "cell_type": "markdown",
   "metadata": {
    "ExecuteTime": {
     "end_time": "2018-10-13T20:35:14.528643Z",
     "start_time": "2018-10-13T20:35:14.523644Z"
    }
   },
   "source": [
    "угол полета антиракеты найдем минимизируя предполагаемое расстояние, как функцию от времени и угла полета ракеты"
   ]
  },
  {
   "cell_type": "code",
   "execution_count": 8,
   "metadata": {
    "ExecuteTime": {
     "end_time": "2018-10-14T08:08:33.213546Z",
     "start_time": "2018-10-14T08:08:33.208545Z"
    }
   },
   "outputs": [],
   "source": [
    "f = lambda t: (x(t[0])-x(t[0]-T0, t[1], C, -1*u0_))**2+\\\n",
    "    (koef[0,0]*(x(t[0])**2)+koef[1,0]*x(t[0])+koef[2,0] -y(t[0]-T0, t[1], 0, u0_))**2\n",
    "c = minimize(f,[T0+1,pi/4],bounds=[(T0, 2*u0*np.sin(alpha)/g), (0, pi/2)])['x']"
   ]
  },
  {
   "cell_type": "code",
   "execution_count": 9,
   "metadata": {
    "ExecuteTime": {
     "end_time": "2018-10-14T08:08:33.474143Z",
     "start_time": "2018-10-14T08:08:33.449135Z"
    }
   },
   "outputs": [
    {
     "data": {
      "application/javascript": [
       "/* Put everything inside the global mpl namespace */\n",
       "window.mpl = {};\n",
       "\n",
       "\n",
       "mpl.get_websocket_type = function() {\n",
       "    if (typeof(WebSocket) !== 'undefined') {\n",
       "        return WebSocket;\n",
       "    } else if (typeof(MozWebSocket) !== 'undefined') {\n",
       "        return MozWebSocket;\n",
       "    } else {\n",
       "        alert('Your browser does not have WebSocket support.' +\n",
       "              'Please try Chrome, Safari or Firefox ≥ 6. ' +\n",
       "              'Firefox 4 and 5 are also supported but you ' +\n",
       "              'have to enable WebSockets in about:config.');\n",
       "    };\n",
       "}\n",
       "\n",
       "mpl.figure = function(figure_id, websocket, ondownload, parent_element) {\n",
       "    this.id = figure_id;\n",
       "\n",
       "    this.ws = websocket;\n",
       "\n",
       "    this.supports_binary = (this.ws.binaryType != undefined);\n",
       "\n",
       "    if (!this.supports_binary) {\n",
       "        var warnings = document.getElementById(\"mpl-warnings\");\n",
       "        if (warnings) {\n",
       "            warnings.style.display = 'block';\n",
       "            warnings.textContent = (\n",
       "                \"This browser does not support binary websocket messages. \" +\n",
       "                    \"Performance may be slow.\");\n",
       "        }\n",
       "    }\n",
       "\n",
       "    this.imageObj = new Image();\n",
       "\n",
       "    this.context = undefined;\n",
       "    this.message = undefined;\n",
       "    this.canvas = undefined;\n",
       "    this.rubberband_canvas = undefined;\n",
       "    this.rubberband_context = undefined;\n",
       "    this.format_dropdown = undefined;\n",
       "\n",
       "    this.image_mode = 'full';\n",
       "\n",
       "    this.root = $('<div/>');\n",
       "    this._root_extra_style(this.root)\n",
       "    this.root.attr('style', 'display: inline-block');\n",
       "\n",
       "    $(parent_element).append(this.root);\n",
       "\n",
       "    this._init_header(this);\n",
       "    this._init_canvas(this);\n",
       "    this._init_toolbar(this);\n",
       "\n",
       "    var fig = this;\n",
       "\n",
       "    this.waiting = false;\n",
       "\n",
       "    this.ws.onopen =  function () {\n",
       "            fig.send_message(\"supports_binary\", {value: fig.supports_binary});\n",
       "            fig.send_message(\"send_image_mode\", {});\n",
       "            if (mpl.ratio != 1) {\n",
       "                fig.send_message(\"set_dpi_ratio\", {'dpi_ratio': mpl.ratio});\n",
       "            }\n",
       "            fig.send_message(\"refresh\", {});\n",
       "        }\n",
       "\n",
       "    this.imageObj.onload = function() {\n",
       "            if (fig.image_mode == 'full') {\n",
       "                // Full images could contain transparency (where diff images\n",
       "                // almost always do), so we need to clear the canvas so that\n",
       "                // there is no ghosting.\n",
       "                fig.context.clearRect(0, 0, fig.canvas.width, fig.canvas.height);\n",
       "            }\n",
       "            fig.context.drawImage(fig.imageObj, 0, 0);\n",
       "        };\n",
       "\n",
       "    this.imageObj.onunload = function() {\n",
       "        fig.ws.close();\n",
       "    }\n",
       "\n",
       "    this.ws.onmessage = this._make_on_message_function(this);\n",
       "\n",
       "    this.ondownload = ondownload;\n",
       "}\n",
       "\n",
       "mpl.figure.prototype._init_header = function() {\n",
       "    var titlebar = $(\n",
       "        '<div class=\"ui-dialog-titlebar ui-widget-header ui-corner-all ' +\n",
       "        'ui-helper-clearfix\"/>');\n",
       "    var titletext = $(\n",
       "        '<div class=\"ui-dialog-title\" style=\"width: 100%; ' +\n",
       "        'text-align: center; padding: 3px;\"/>');\n",
       "    titlebar.append(titletext)\n",
       "    this.root.append(titlebar);\n",
       "    this.header = titletext[0];\n",
       "}\n",
       "\n",
       "\n",
       "\n",
       "mpl.figure.prototype._canvas_extra_style = function(canvas_div) {\n",
       "\n",
       "}\n",
       "\n",
       "\n",
       "mpl.figure.prototype._root_extra_style = function(canvas_div) {\n",
       "\n",
       "}\n",
       "\n",
       "mpl.figure.prototype._init_canvas = function() {\n",
       "    var fig = this;\n",
       "\n",
       "    var canvas_div = $('<div/>');\n",
       "\n",
       "    canvas_div.attr('style', 'position: relative; clear: both; outline: 0');\n",
       "\n",
       "    function canvas_keyboard_event(event) {\n",
       "        return fig.key_event(event, event['data']);\n",
       "    }\n",
       "\n",
       "    canvas_div.keydown('key_press', canvas_keyboard_event);\n",
       "    canvas_div.keyup('key_release', canvas_keyboard_event);\n",
       "    this.canvas_div = canvas_div\n",
       "    this._canvas_extra_style(canvas_div)\n",
       "    this.root.append(canvas_div);\n",
       "\n",
       "    var canvas = $('<canvas/>');\n",
       "    canvas.addClass('mpl-canvas');\n",
       "    canvas.attr('style', \"left: 0; top: 0; z-index: 0; outline: 0\")\n",
       "\n",
       "    this.canvas = canvas[0];\n",
       "    this.context = canvas[0].getContext(\"2d\");\n",
       "\n",
       "    var backingStore = this.context.backingStorePixelRatio ||\n",
       "\tthis.context.webkitBackingStorePixelRatio ||\n",
       "\tthis.context.mozBackingStorePixelRatio ||\n",
       "\tthis.context.msBackingStorePixelRatio ||\n",
       "\tthis.context.oBackingStorePixelRatio ||\n",
       "\tthis.context.backingStorePixelRatio || 1;\n",
       "\n",
       "    mpl.ratio = (window.devicePixelRatio || 1) / backingStore;\n",
       "\n",
       "    var rubberband = $('<canvas/>');\n",
       "    rubberband.attr('style', \"position: absolute; left: 0; top: 0; z-index: 1;\")\n",
       "\n",
       "    var pass_mouse_events = true;\n",
       "\n",
       "    canvas_div.resizable({\n",
       "        start: function(event, ui) {\n",
       "            pass_mouse_events = false;\n",
       "        },\n",
       "        resize: function(event, ui) {\n",
       "            fig.request_resize(ui.size.width, ui.size.height);\n",
       "        },\n",
       "        stop: function(event, ui) {\n",
       "            pass_mouse_events = true;\n",
       "            fig.request_resize(ui.size.width, ui.size.height);\n",
       "        },\n",
       "    });\n",
       "\n",
       "    function mouse_event_fn(event) {\n",
       "        if (pass_mouse_events)\n",
       "            return fig.mouse_event(event, event['data']);\n",
       "    }\n",
       "\n",
       "    rubberband.mousedown('button_press', mouse_event_fn);\n",
       "    rubberband.mouseup('button_release', mouse_event_fn);\n",
       "    // Throttle sequential mouse events to 1 every 20ms.\n",
       "    rubberband.mousemove('motion_notify', mouse_event_fn);\n",
       "\n",
       "    rubberband.mouseenter('figure_enter', mouse_event_fn);\n",
       "    rubberband.mouseleave('figure_leave', mouse_event_fn);\n",
       "\n",
       "    canvas_div.on(\"wheel\", function (event) {\n",
       "        event = event.originalEvent;\n",
       "        event['data'] = 'scroll'\n",
       "        if (event.deltaY < 0) {\n",
       "            event.step = 1;\n",
       "        } else {\n",
       "            event.step = -1;\n",
       "        }\n",
       "        mouse_event_fn(event);\n",
       "    });\n",
       "\n",
       "    canvas_div.append(canvas);\n",
       "    canvas_div.append(rubberband);\n",
       "\n",
       "    this.rubberband = rubberband;\n",
       "    this.rubberband_canvas = rubberband[0];\n",
       "    this.rubberband_context = rubberband[0].getContext(\"2d\");\n",
       "    this.rubberband_context.strokeStyle = \"#000000\";\n",
       "\n",
       "    this._resize_canvas = function(width, height) {\n",
       "        // Keep the size of the canvas, canvas container, and rubber band\n",
       "        // canvas in synch.\n",
       "        canvas_div.css('width', width)\n",
       "        canvas_div.css('height', height)\n",
       "\n",
       "        canvas.attr('width', width * mpl.ratio);\n",
       "        canvas.attr('height', height * mpl.ratio);\n",
       "        canvas.attr('style', 'width: ' + width + 'px; height: ' + height + 'px;');\n",
       "\n",
       "        rubberband.attr('width', width);\n",
       "        rubberband.attr('height', height);\n",
       "    }\n",
       "\n",
       "    // Set the figure to an initial 600x600px, this will subsequently be updated\n",
       "    // upon first draw.\n",
       "    this._resize_canvas(600, 600);\n",
       "\n",
       "    // Disable right mouse context menu.\n",
       "    $(this.rubberband_canvas).bind(\"contextmenu\",function(e){\n",
       "        return false;\n",
       "    });\n",
       "\n",
       "    function set_focus () {\n",
       "        canvas.focus();\n",
       "        canvas_div.focus();\n",
       "    }\n",
       "\n",
       "    window.setTimeout(set_focus, 100);\n",
       "}\n",
       "\n",
       "mpl.figure.prototype._init_toolbar = function() {\n",
       "    var fig = this;\n",
       "\n",
       "    var nav_element = $('<div/>')\n",
       "    nav_element.attr('style', 'width: 100%');\n",
       "    this.root.append(nav_element);\n",
       "\n",
       "    // Define a callback function for later on.\n",
       "    function toolbar_event(event) {\n",
       "        return fig.toolbar_button_onclick(event['data']);\n",
       "    }\n",
       "    function toolbar_mouse_event(event) {\n",
       "        return fig.toolbar_button_onmouseover(event['data']);\n",
       "    }\n",
       "\n",
       "    for(var toolbar_ind in mpl.toolbar_items) {\n",
       "        var name = mpl.toolbar_items[toolbar_ind][0];\n",
       "        var tooltip = mpl.toolbar_items[toolbar_ind][1];\n",
       "        var image = mpl.toolbar_items[toolbar_ind][2];\n",
       "        var method_name = mpl.toolbar_items[toolbar_ind][3];\n",
       "\n",
       "        if (!name) {\n",
       "            // put a spacer in here.\n",
       "            continue;\n",
       "        }\n",
       "        var button = $('<button/>');\n",
       "        button.addClass('ui-button ui-widget ui-state-default ui-corner-all ' +\n",
       "                        'ui-button-icon-only');\n",
       "        button.attr('role', 'button');\n",
       "        button.attr('aria-disabled', 'false');\n",
       "        button.click(method_name, toolbar_event);\n",
       "        button.mouseover(tooltip, toolbar_mouse_event);\n",
       "\n",
       "        var icon_img = $('<span/>');\n",
       "        icon_img.addClass('ui-button-icon-primary ui-icon');\n",
       "        icon_img.addClass(image);\n",
       "        icon_img.addClass('ui-corner-all');\n",
       "\n",
       "        var tooltip_span = $('<span/>');\n",
       "        tooltip_span.addClass('ui-button-text');\n",
       "        tooltip_span.html(tooltip);\n",
       "\n",
       "        button.append(icon_img);\n",
       "        button.append(tooltip_span);\n",
       "\n",
       "        nav_element.append(button);\n",
       "    }\n",
       "\n",
       "    var fmt_picker_span = $('<span/>');\n",
       "\n",
       "    var fmt_picker = $('<select/>');\n",
       "    fmt_picker.addClass('mpl-toolbar-option ui-widget ui-widget-content');\n",
       "    fmt_picker_span.append(fmt_picker);\n",
       "    nav_element.append(fmt_picker_span);\n",
       "    this.format_dropdown = fmt_picker[0];\n",
       "\n",
       "    for (var ind in mpl.extensions) {\n",
       "        var fmt = mpl.extensions[ind];\n",
       "        var option = $(\n",
       "            '<option/>', {selected: fmt === mpl.default_extension}).html(fmt);\n",
       "        fmt_picker.append(option)\n",
       "    }\n",
       "\n",
       "    // Add hover states to the ui-buttons\n",
       "    $( \".ui-button\" ).hover(\n",
       "        function() { $(this).addClass(\"ui-state-hover\");},\n",
       "        function() { $(this).removeClass(\"ui-state-hover\");}\n",
       "    );\n",
       "\n",
       "    var status_bar = $('<span class=\"mpl-message\"/>');\n",
       "    nav_element.append(status_bar);\n",
       "    this.message = status_bar[0];\n",
       "}\n",
       "\n",
       "mpl.figure.prototype.request_resize = function(x_pixels, y_pixels) {\n",
       "    // Request matplotlib to resize the figure. Matplotlib will then trigger a resize in the client,\n",
       "    // which will in turn request a refresh of the image.\n",
       "    this.send_message('resize', {'width': x_pixels, 'height': y_pixels});\n",
       "}\n",
       "\n",
       "mpl.figure.prototype.send_message = function(type, properties) {\n",
       "    properties['type'] = type;\n",
       "    properties['figure_id'] = this.id;\n",
       "    this.ws.send(JSON.stringify(properties));\n",
       "}\n",
       "\n",
       "mpl.figure.prototype.send_draw_message = function() {\n",
       "    if (!this.waiting) {\n",
       "        this.waiting = true;\n",
       "        this.ws.send(JSON.stringify({type: \"draw\", figure_id: this.id}));\n",
       "    }\n",
       "}\n",
       "\n",
       "\n",
       "mpl.figure.prototype.handle_save = function(fig, msg) {\n",
       "    var format_dropdown = fig.format_dropdown;\n",
       "    var format = format_dropdown.options[format_dropdown.selectedIndex].value;\n",
       "    fig.ondownload(fig, format);\n",
       "}\n",
       "\n",
       "\n",
       "mpl.figure.prototype.handle_resize = function(fig, msg) {\n",
       "    var size = msg['size'];\n",
       "    if (size[0] != fig.canvas.width || size[1] != fig.canvas.height) {\n",
       "        fig._resize_canvas(size[0], size[1]);\n",
       "        fig.send_message(\"refresh\", {});\n",
       "    };\n",
       "}\n",
       "\n",
       "mpl.figure.prototype.handle_rubberband = function(fig, msg) {\n",
       "    var x0 = msg['x0'] / mpl.ratio;\n",
       "    var y0 = (fig.canvas.height - msg['y0']) / mpl.ratio;\n",
       "    var x1 = msg['x1'] / mpl.ratio;\n",
       "    var y1 = (fig.canvas.height - msg['y1']) / mpl.ratio;\n",
       "    x0 = Math.floor(x0) + 0.5;\n",
       "    y0 = Math.floor(y0) + 0.5;\n",
       "    x1 = Math.floor(x1) + 0.5;\n",
       "    y1 = Math.floor(y1) + 0.5;\n",
       "    var min_x = Math.min(x0, x1);\n",
       "    var min_y = Math.min(y0, y1);\n",
       "    var width = Math.abs(x1 - x0);\n",
       "    var height = Math.abs(y1 - y0);\n",
       "\n",
       "    fig.rubberband_context.clearRect(\n",
       "        0, 0, fig.canvas.width, fig.canvas.height);\n",
       "\n",
       "    fig.rubberband_context.strokeRect(min_x, min_y, width, height);\n",
       "}\n",
       "\n",
       "mpl.figure.prototype.handle_figure_label = function(fig, msg) {\n",
       "    // Updates the figure title.\n",
       "    fig.header.textContent = msg['label'];\n",
       "}\n",
       "\n",
       "mpl.figure.prototype.handle_cursor = function(fig, msg) {\n",
       "    var cursor = msg['cursor'];\n",
       "    switch(cursor)\n",
       "    {\n",
       "    case 0:\n",
       "        cursor = 'pointer';\n",
       "        break;\n",
       "    case 1:\n",
       "        cursor = 'default';\n",
       "        break;\n",
       "    case 2:\n",
       "        cursor = 'crosshair';\n",
       "        break;\n",
       "    case 3:\n",
       "        cursor = 'move';\n",
       "        break;\n",
       "    }\n",
       "    fig.rubberband_canvas.style.cursor = cursor;\n",
       "}\n",
       "\n",
       "mpl.figure.prototype.handle_message = function(fig, msg) {\n",
       "    fig.message.textContent = msg['message'];\n",
       "}\n",
       "\n",
       "mpl.figure.prototype.handle_draw = function(fig, msg) {\n",
       "    // Request the server to send over a new figure.\n",
       "    fig.send_draw_message();\n",
       "}\n",
       "\n",
       "mpl.figure.prototype.handle_image_mode = function(fig, msg) {\n",
       "    fig.image_mode = msg['mode'];\n",
       "}\n",
       "\n",
       "mpl.figure.prototype.updated_canvas_event = function() {\n",
       "    // Called whenever the canvas gets updated.\n",
       "    this.send_message(\"ack\", {});\n",
       "}\n",
       "\n",
       "// A function to construct a web socket function for onmessage handling.\n",
       "// Called in the figure constructor.\n",
       "mpl.figure.prototype._make_on_message_function = function(fig) {\n",
       "    return function socket_on_message(evt) {\n",
       "        if (evt.data instanceof Blob) {\n",
       "            /* FIXME: We get \"Resource interpreted as Image but\n",
       "             * transferred with MIME type text/plain:\" errors on\n",
       "             * Chrome.  But how to set the MIME type?  It doesn't seem\n",
       "             * to be part of the websocket stream */\n",
       "            evt.data.type = \"image/png\";\n",
       "\n",
       "            /* Free the memory for the previous frames */\n",
       "            if (fig.imageObj.src) {\n",
       "                (window.URL || window.webkitURL).revokeObjectURL(\n",
       "                    fig.imageObj.src);\n",
       "            }\n",
       "\n",
       "            fig.imageObj.src = (window.URL || window.webkitURL).createObjectURL(\n",
       "                evt.data);\n",
       "            fig.updated_canvas_event();\n",
       "            fig.waiting = false;\n",
       "            return;\n",
       "        }\n",
       "        else if (typeof evt.data === 'string' && evt.data.slice(0, 21) == \"data:image/png;base64\") {\n",
       "            fig.imageObj.src = evt.data;\n",
       "            fig.updated_canvas_event();\n",
       "            fig.waiting = false;\n",
       "            return;\n",
       "        }\n",
       "\n",
       "        var msg = JSON.parse(evt.data);\n",
       "        var msg_type = msg['type'];\n",
       "\n",
       "        // Call the  \"handle_{type}\" callback, which takes\n",
       "        // the figure and JSON message as its only arguments.\n",
       "        try {\n",
       "            var callback = fig[\"handle_\" + msg_type];\n",
       "        } catch (e) {\n",
       "            console.log(\"No handler for the '\" + msg_type + \"' message type: \", msg);\n",
       "            return;\n",
       "        }\n",
       "\n",
       "        if (callback) {\n",
       "            try {\n",
       "                // console.log(\"Handling '\" + msg_type + \"' message: \", msg);\n",
       "                callback(fig, msg);\n",
       "            } catch (e) {\n",
       "                console.log(\"Exception inside the 'handler_\" + msg_type + \"' callback:\", e, e.stack, msg);\n",
       "            }\n",
       "        }\n",
       "    };\n",
       "}\n",
       "\n",
       "// from http://stackoverflow.com/questions/1114465/getting-mouse-location-in-canvas\n",
       "mpl.findpos = function(e) {\n",
       "    //this section is from http://www.quirksmode.org/js/events_properties.html\n",
       "    var targ;\n",
       "    if (!e)\n",
       "        e = window.event;\n",
       "    if (e.target)\n",
       "        targ = e.target;\n",
       "    else if (e.srcElement)\n",
       "        targ = e.srcElement;\n",
       "    if (targ.nodeType == 3) // defeat Safari bug\n",
       "        targ = targ.parentNode;\n",
       "\n",
       "    // jQuery normalizes the pageX and pageY\n",
       "    // pageX,Y are the mouse positions relative to the document\n",
       "    // offset() returns the position of the element relative to the document\n",
       "    var x = e.pageX - $(targ).offset().left;\n",
       "    var y = e.pageY - $(targ).offset().top;\n",
       "\n",
       "    return {\"x\": x, \"y\": y};\n",
       "};\n",
       "\n",
       "/*\n",
       " * return a copy of an object with only non-object keys\n",
       " * we need this to avoid circular references\n",
       " * http://stackoverflow.com/a/24161582/3208463\n",
       " */\n",
       "function simpleKeys (original) {\n",
       "  return Object.keys(original).reduce(function (obj, key) {\n",
       "    if (typeof original[key] !== 'object')\n",
       "        obj[key] = original[key]\n",
       "    return obj;\n",
       "  }, {});\n",
       "}\n",
       "\n",
       "mpl.figure.prototype.mouse_event = function(event, name) {\n",
       "    var canvas_pos = mpl.findpos(event)\n",
       "\n",
       "    if (name === 'button_press')\n",
       "    {\n",
       "        this.canvas.focus();\n",
       "        this.canvas_div.focus();\n",
       "    }\n",
       "\n",
       "    var x = canvas_pos.x * mpl.ratio;\n",
       "    var y = canvas_pos.y * mpl.ratio;\n",
       "\n",
       "    this.send_message(name, {x: x, y: y, button: event.button,\n",
       "                             step: event.step,\n",
       "                             guiEvent: simpleKeys(event)});\n",
       "\n",
       "    /* This prevents the web browser from automatically changing to\n",
       "     * the text insertion cursor when the button is pressed.  We want\n",
       "     * to control all of the cursor setting manually through the\n",
       "     * 'cursor' event from matplotlib */\n",
       "    event.preventDefault();\n",
       "    return false;\n",
       "}\n",
       "\n",
       "mpl.figure.prototype._key_event_extra = function(event, name) {\n",
       "    // Handle any extra behaviour associated with a key event\n",
       "}\n",
       "\n",
       "mpl.figure.prototype.key_event = function(event, name) {\n",
       "\n",
       "    // Prevent repeat events\n",
       "    if (name == 'key_press')\n",
       "    {\n",
       "        if (event.which === this._key)\n",
       "            return;\n",
       "        else\n",
       "            this._key = event.which;\n",
       "    }\n",
       "    if (name == 'key_release')\n",
       "        this._key = null;\n",
       "\n",
       "    var value = '';\n",
       "    if (event.ctrlKey && event.which != 17)\n",
       "        value += \"ctrl+\";\n",
       "    if (event.altKey && event.which != 18)\n",
       "        value += \"alt+\";\n",
       "    if (event.shiftKey && event.which != 16)\n",
       "        value += \"shift+\";\n",
       "\n",
       "    value += 'k';\n",
       "    value += event.which.toString();\n",
       "\n",
       "    this._key_event_extra(event, name);\n",
       "\n",
       "    this.send_message(name, {key: value,\n",
       "                             guiEvent: simpleKeys(event)});\n",
       "    return false;\n",
       "}\n",
       "\n",
       "mpl.figure.prototype.toolbar_button_onclick = function(name) {\n",
       "    if (name == 'download') {\n",
       "        this.handle_save(this, null);\n",
       "    } else {\n",
       "        this.send_message(\"toolbar_button\", {name: name});\n",
       "    }\n",
       "};\n",
       "\n",
       "mpl.figure.prototype.toolbar_button_onmouseover = function(tooltip) {\n",
       "    this.message.textContent = tooltip;\n",
       "};\n",
       "mpl.toolbar_items = [[\"Home\", \"Reset original view\", \"fa fa-home icon-home\", \"home\"], [\"Back\", \"Back to  previous view\", \"fa fa-arrow-left icon-arrow-left\", \"back\"], [\"Forward\", \"Forward to next view\", \"fa fa-arrow-right icon-arrow-right\", \"forward\"], [\"\", \"\", \"\", \"\"], [\"Pan\", \"Pan axes with left mouse, zoom with right\", \"fa fa-arrows icon-move\", \"pan\"], [\"Zoom\", \"Zoom to rectangle\", \"fa fa-square-o icon-check-empty\", \"zoom\"], [\"\", \"\", \"\", \"\"], [\"Download\", \"Download plot\", \"fa fa-floppy-o icon-save\", \"download\"]];\n",
       "\n",
       "mpl.extensions = [\"eps\", \"jpeg\", \"pdf\", \"png\", \"ps\", \"raw\", \"svg\", \"tif\"];\n",
       "\n",
       "mpl.default_extension = \"png\";var comm_websocket_adapter = function(comm) {\n",
       "    // Create a \"websocket\"-like object which calls the given IPython comm\n",
       "    // object with the appropriate methods. Currently this is a non binary\n",
       "    // socket, so there is still some room for performance tuning.\n",
       "    var ws = {};\n",
       "\n",
       "    ws.close = function() {\n",
       "        comm.close()\n",
       "    };\n",
       "    ws.send = function(m) {\n",
       "        //console.log('sending', m);\n",
       "        comm.send(m);\n",
       "    };\n",
       "    // Register the callback with on_msg.\n",
       "    comm.on_msg(function(msg) {\n",
       "        //console.log('receiving', msg['content']['data'], msg);\n",
       "        // Pass the mpl event to the overridden (by mpl) onmessage function.\n",
       "        ws.onmessage(msg['content']['data'])\n",
       "    });\n",
       "    return ws;\n",
       "}\n",
       "\n",
       "mpl.mpl_figure_comm = function(comm, msg) {\n",
       "    // This is the function which gets called when the mpl process\n",
       "    // starts-up an IPython Comm through the \"matplotlib\" channel.\n",
       "\n",
       "    var id = msg.content.data.id;\n",
       "    // Get hold of the div created by the display call when the Comm\n",
       "    // socket was opened in Python.\n",
       "    var element = $(\"#\" + id);\n",
       "    var ws_proxy = comm_websocket_adapter(comm)\n",
       "\n",
       "    function ondownload(figure, format) {\n",
       "        window.open(figure.imageObj.src);\n",
       "    }\n",
       "\n",
       "    var fig = new mpl.figure(id, ws_proxy,\n",
       "                           ondownload,\n",
       "                           element.get(0));\n",
       "\n",
       "    // Call onopen now - mpl needs it, as it is assuming we've passed it a real\n",
       "    // web socket which is closed, not our websocket->open comm proxy.\n",
       "    ws_proxy.onopen();\n",
       "\n",
       "    fig.parent_element = element.get(0);\n",
       "    fig.cell_info = mpl.find_output_cell(\"<div id='\" + id + \"'></div>\");\n",
       "    if (!fig.cell_info) {\n",
       "        console.error(\"Failed to find cell for figure\", id, fig);\n",
       "        return;\n",
       "    }\n",
       "\n",
       "    var output_index = fig.cell_info[2]\n",
       "    var cell = fig.cell_info[0];\n",
       "\n",
       "};\n",
       "\n",
       "mpl.figure.prototype.handle_close = function(fig, msg) {\n",
       "    var width = fig.canvas.width/mpl.ratio\n",
       "    fig.root.unbind('remove')\n",
       "\n",
       "    // Update the output cell to use the data from the current canvas.\n",
       "    fig.push_to_output();\n",
       "    var dataURL = fig.canvas.toDataURL();\n",
       "    // Re-enable the keyboard manager in IPython - without this line, in FF,\n",
       "    // the notebook keyboard shortcuts fail.\n",
       "    IPython.keyboard_manager.enable()\n",
       "    $(fig.parent_element).html('<img src=\"' + dataURL + '\" width=\"' + width + '\">');\n",
       "    fig.close_ws(fig, msg);\n",
       "}\n",
       "\n",
       "mpl.figure.prototype.close_ws = function(fig, msg){\n",
       "    fig.send_message('closing', msg);\n",
       "    // fig.ws.close()\n",
       "}\n",
       "\n",
       "mpl.figure.prototype.push_to_output = function(remove_interactive) {\n",
       "    // Turn the data on the canvas into data in the output cell.\n",
       "    var width = this.canvas.width/mpl.ratio\n",
       "    var dataURL = this.canvas.toDataURL();\n",
       "    this.cell_info[1]['text/html'] = '<img src=\"' + dataURL + '\" width=\"' + width + '\">';\n",
       "}\n",
       "\n",
       "mpl.figure.prototype.updated_canvas_event = function() {\n",
       "    // Tell IPython that the notebook contents must change.\n",
       "    IPython.notebook.set_dirty(true);\n",
       "    this.send_message(\"ack\", {});\n",
       "    var fig = this;\n",
       "    // Wait a second, then push the new image to the DOM so\n",
       "    // that it is saved nicely (might be nice to debounce this).\n",
       "    setTimeout(function () { fig.push_to_output() }, 1000);\n",
       "}\n",
       "\n",
       "mpl.figure.prototype._init_toolbar = function() {\n",
       "    var fig = this;\n",
       "\n",
       "    var nav_element = $('<div/>')\n",
       "    nav_element.attr('style', 'width: 100%');\n",
       "    this.root.append(nav_element);\n",
       "\n",
       "    // Define a callback function for later on.\n",
       "    function toolbar_event(event) {\n",
       "        return fig.toolbar_button_onclick(event['data']);\n",
       "    }\n",
       "    function toolbar_mouse_event(event) {\n",
       "        return fig.toolbar_button_onmouseover(event['data']);\n",
       "    }\n",
       "\n",
       "    for(var toolbar_ind in mpl.toolbar_items){\n",
       "        var name = mpl.toolbar_items[toolbar_ind][0];\n",
       "        var tooltip = mpl.toolbar_items[toolbar_ind][1];\n",
       "        var image = mpl.toolbar_items[toolbar_ind][2];\n",
       "        var method_name = mpl.toolbar_items[toolbar_ind][3];\n",
       "\n",
       "        if (!name) { continue; };\n",
       "\n",
       "        var button = $('<button class=\"btn btn-default\" href=\"#\" title=\"' + name + '\"><i class=\"fa ' + image + ' fa-lg\"></i></button>');\n",
       "        button.click(method_name, toolbar_event);\n",
       "        button.mouseover(tooltip, toolbar_mouse_event);\n",
       "        nav_element.append(button);\n",
       "    }\n",
       "\n",
       "    // Add the status bar.\n",
       "    var status_bar = $('<span class=\"mpl-message\" style=\"text-align:right; float: right;\"/>');\n",
       "    nav_element.append(status_bar);\n",
       "    this.message = status_bar[0];\n",
       "\n",
       "    // Add the close button to the window.\n",
       "    var buttongrp = $('<div class=\"btn-group inline pull-right\"></div>');\n",
       "    var button = $('<button class=\"btn btn-mini btn-primary\" href=\"#\" title=\"Stop Interaction\"><i class=\"fa fa-power-off icon-remove icon-large\"></i></button>');\n",
       "    button.click(function (evt) { fig.handle_close(fig, {}); } );\n",
       "    button.mouseover('Stop Interaction', toolbar_mouse_event);\n",
       "    buttongrp.append(button);\n",
       "    var titlebar = this.root.find($('.ui-dialog-titlebar'));\n",
       "    titlebar.prepend(buttongrp);\n",
       "}\n",
       "\n",
       "mpl.figure.prototype._root_extra_style = function(el){\n",
       "    var fig = this\n",
       "    el.on(\"remove\", function(){\n",
       "\tfig.close_ws(fig, {});\n",
       "    });\n",
       "}\n",
       "\n",
       "mpl.figure.prototype._canvas_extra_style = function(el){\n",
       "    // this is important to make the div 'focusable\n",
       "    el.attr('tabindex', 0)\n",
       "    // reach out to IPython and tell the keyboard manager to turn it's self\n",
       "    // off when our div gets focus\n",
       "\n",
       "    // location in version 3\n",
       "    if (IPython.notebook.keyboard_manager) {\n",
       "        IPython.notebook.keyboard_manager.register_events(el);\n",
       "    }\n",
       "    else {\n",
       "        // location in version 2\n",
       "        IPython.keyboard_manager.register_events(el);\n",
       "    }\n",
       "\n",
       "}\n",
       "\n",
       "mpl.figure.prototype._key_event_extra = function(event, name) {\n",
       "    var manager = IPython.notebook.keyboard_manager;\n",
       "    if (!manager)\n",
       "        manager = IPython.keyboard_manager;\n",
       "\n",
       "    // Check for shift+enter\n",
       "    if (event.shiftKey && event.which == 13) {\n",
       "        this.canvas_div.blur();\n",
       "        event.shiftKey = false;\n",
       "        // Send a \"J\" for go to next cell\n",
       "        event.which = 74;\n",
       "        event.keyCode = 74;\n",
       "        manager.command_mode();\n",
       "        manager.handle_keydown(event);\n",
       "    }\n",
       "}\n",
       "\n",
       "mpl.figure.prototype.handle_save = function(fig, msg) {\n",
       "    fig.ondownload(fig, null);\n",
       "}\n",
       "\n",
       "\n",
       "mpl.find_output_cell = function(html_output) {\n",
       "    // Return the cell and output element which can be found *uniquely* in the notebook.\n",
       "    // Note - this is a bit hacky, but it is done because the \"notebook_saving.Notebook\"\n",
       "    // IPython event is triggered only after the cells have been serialised, which for\n",
       "    // our purposes (turning an active figure into a static one), is too late.\n",
       "    var cells = IPython.notebook.get_cells();\n",
       "    var ncells = cells.length;\n",
       "    for (var i=0; i<ncells; i++) {\n",
       "        var cell = cells[i];\n",
       "        if (cell.cell_type === 'code'){\n",
       "            for (var j=0; j<cell.output_area.outputs.length; j++) {\n",
       "                var data = cell.output_area.outputs[j];\n",
       "                if (data.data) {\n",
       "                    // IPython >= 3 moved mimebundle to data attribute of output\n",
       "                    data = data.data;\n",
       "                }\n",
       "                if (data['text/html'] == html_output) {\n",
       "                    return [cell, data, j];\n",
       "                }\n",
       "            }\n",
       "        }\n",
       "    }\n",
       "}\n",
       "\n",
       "// Register the function which deals with the matplotlib target/channel.\n",
       "// The kernel may be null if the page has been refreshed.\n",
       "if (IPython.notebook.kernel != null) {\n",
       "    IPython.notebook.kernel.comm_manager.register_target('matplotlib', mpl.mpl_figure_comm);\n",
       "}\n"
      ],
      "text/plain": [
       "<IPython.core.display.Javascript object>"
      ]
     },
     "metadata": {},
     "output_type": "display_data"
    },
    {
     "data": {
      "text/html": [
       "<img src=\"data:image/png;base64,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\" width=\"640\">"
      ],
      "text/plain": [
       "<IPython.core.display.HTML object>"
      ]
     },
     "metadata": {},
     "output_type": "display_data"
    }
   ],
   "source": [
    "fig = plt.figure()\n",
    "ax = fig.add_subplot(111)\n",
    "ax.grid()\n",
    "def plotter(t):\n",
    "    #ax.clear()\n",
    "    if t < c[0]+3:\n",
    "        ax.plot(x(t), y(t), 'r*')\n",
    "    if(T1 < t < T0):\n",
    "        ax.plot(xe[:min(int(t)-T1, T0+1-T1)], ye[:min(int(t)-T1, T0+1-T1)],'-')\n",
    "    if T0 < t and y(t-T0,alpha_,0,u0_) > 0:\n",
    "        ax.plot(x(t-T0,alpha_,C,-u0_), y(t-T0,alpha_,0,u0_),'b*')\n",
    "    if T0 < t < c[0]+3:\n",
    "        ax.plot( x(t-T0, c[1],C,-u0_), y(t-T0, c[1], 0, u0_), 'go')\n",
    "        ax.plot(x(t, alpha,0, u0), koef[0,0]*x(t)**2 + koef[1,0]*x(t) + koef[2,0], 'v') \n"
   ]
  },
  {
   "cell_type": "code",
   "execution_count": 10,
   "metadata": {
    "ExecuteTime": {
     "end_time": "2018-10-14T08:08:33.782245Z",
     "start_time": "2018-10-14T08:08:33.755228Z"
    }
   },
   "outputs": [
    {
     "data": {
      "application/vnd.jupyter.widget-view+json": {
       "model_id": "f69a6aff6b944e52b1ba42f06cdf78c3",
       "version_major": 2,
       "version_minor": 0
      },
      "text/plain": [
       "interactive(children=(FloatSlider(value=0.0, description='t', max=144.20964981651179, step=1.0), Output()), _d…"
      ]
     },
     "metadata": {},
     "output_type": "display_data"
    }
   ],
   "source": [
    "interact(plotter, t=widgets.FloatSlider(min=0,max=flight_time,step=1,value=0,width='500px'));"
   ]
  },
  {
   "cell_type": "code",
   "execution_count": 11,
   "metadata": {
    "ExecuteTime": {
     "end_time": "2018-10-14T08:08:34.178572Z",
     "start_time": "2018-10-14T08:08:34.159568Z"
    }
   },
   "outputs": [],
   "source": [
    "dt = np.arange(0, c[0]+10, 0.001)\n",
    "min_dist = np.sqrt(min((x(c[0]-T0+dt,c[1],C,-u0_)-x(c[0]+dt, alpha,0, u0))**2 + (y(c[0]-T0+dt,c[1],0,u0_)-y(c[0]+dt, alpha,0, u0))**2))"
   ]
  },
  {
   "cell_type": "markdown",
   "metadata": {
    "ExecuteTime": {
     "end_time": "2018-10-13T20:28:25.983108Z",
     "start_time": "2018-10-13T20:28:25.979108Z"
    }
   },
   "source": [
    "## Результат моделирования                 "
   ]
  },
  {
   "cell_type": "markdown",
   "metadata": {
    "ExecuteTime": {
     "end_time": "2018-10-13T20:15:27.875608Z",
     "start_time": "2018-10-13T20:15:27.871606Z"
    },
    "variables": {
     "abs(x0)": "422.3495062491233",
     "alpha_*180/pi": "5.373265173694173",
     "c[0]": "61.091410742189055",
     "c[1]*180/pi": "37.91155802033441",
     "flight_time": "144.20964981651179",
     "max(abs(y(te) - ye))": "352.58627860051274",
     "min_dist": "1077.389543942587"
    }
   },
   "source": [
    "полное время полета: {{flight_time}}\n",
    "\n",
    "максимальное отклонение наблюдений от реальной траектории {{max(abs(y(te) - ye))}}\n",
    "\n",
    "время перехвата: {{c[0]}}\n",
    "\n",
    "угол запуска ракеты перехватчика {{c[1]*180/pi}}\n",
    "\n",
    "минимальное расстояние перехватчик - ракета {{min_dist}}\n",
    "\n",
    "угол запуска ракеты возмездия {{alpha_*180/pi}}\n",
    "\n",
    "точность ракеты возмездия {{abs(x0)}}"
   ]
  }
 ],
 "metadata": {
  "kernelspec": {
   "display_name": "Python 3",
   "language": "python",
   "name": "python3"
  },
  "language_info": {
   "codemirror_mode": {
    "name": "ipython",
    "version": 3
   },
   "file_extension": ".py",
   "mimetype": "text/x-python",
   "name": "python",
   "nbconvert_exporter": "python",
   "pygments_lexer": "ipython3",
   "version": "3.6.6"
  },
  "latex_envs": {
   "LaTeX_envs_menu_present": true,
   "autoclose": false,
   "autocomplete": true,
   "bibliofile": "biblio.bib",
   "cite_by": "apalike",
   "current_citInitial": 1,
   "eqLabelWithNumbers": true,
   "eqNumInitial": 1,
   "hotkeys": {
    "equation": "Ctrl-E",
    "itemize": "Ctrl-I"
   },
   "labels_anchors": false,
   "latex_user_defs": false,
   "report_style_numbering": false,
   "user_envs_cfg": false
  },
  "varInspector": {
   "cols": {
    "lenName": 16,
    "lenType": 16,
    "lenVar": 40
   },
   "kernels_config": {
    "python": {
     "delete_cmd_postfix": "",
     "delete_cmd_prefix": "del ",
     "library": "var_list.py",
     "varRefreshCmd": "print(var_dic_list())"
    },
    "r": {
     "delete_cmd_postfix": ") ",
     "delete_cmd_prefix": "rm(",
     "library": "var_list.r",
     "varRefreshCmd": "cat(var_dic_list()) "
    }
   },
   "types_to_exclude": [
    "module",
    "function",
    "builtin_function_or_method",
    "instance",
    "_Feature"
   ],
   "window_display": false
  },
  "widgets": {
   "application/vnd.jupyter.widget-state+json": {
    "state": {
     "085dddad998443a3a7a43afd72dceb87": {
      "model_module": "@jupyter-widgets/controls",
      "model_module_version": "1.4.0",
      "model_name": "DescriptionStyleModel",
      "state": {
       "description_width": "initial"
      }
     },
     "0d0eccf53ea14d7a930b303c6d90e6d5": {
      "model_module": "@jupyter-widgets/base",
      "model_module_version": "1.1.0",
      "model_name": "LayoutModel",
      "state": {}
     },
     "1258a8bfb48c4b4eaff0e921a8a6a82a": {
      "model_module": "@jupyter-widgets/base",
      "model_module_version": "1.1.0",
      "model_name": "LayoutModel",
      "state": {}
     },
     "12c6843e8cfd43afa97e210fef092e41": {
      "model_module": "@jupyter-widgets/base",
      "model_module_version": "1.1.0",
      "model_name": "LayoutModel",
      "state": {}
     },
     "156c45142713451ba805929dc77db9cd": {
      "model_module": "@jupyter-widgets/base",
      "model_module_version": "1.1.0",
      "model_name": "LayoutModel",
      "state": {}
     },
     "161487a90ee142dea6626116a9cbd783": {
      "model_module": "@jupyter-widgets/base",
      "model_module_version": "1.1.0",
      "model_name": "LayoutModel",
      "state": {}
     },
     "1719538d0f53434b8dfda531a43f8671": {
      "model_module": "@jupyter-widgets/controls",
      "model_module_version": "1.4.0",
      "model_name": "FloatTextModel",
      "state": {
       "description": "Скорость противоракеты",
       "layout": "IPY_MODEL_2cb2611ac0244c0cb62f8c9b44ae16f4",
       "step": null,
       "style": "IPY_MODEL_8c9ffe8434694717bc5ba0cd0b3f661d",
       "value": 2000
      }
     },
     "1e0bc6bb85ea4b35acf4f8e6d4a29270": {
      "model_module": "@jupyter-widgets/controls",
      "model_module_version": "1.4.0",
      "model_name": "DescriptionStyleModel",
      "state": {
       "description_width": "initial"
      }
     },
     "1e28542b5bfd4a72a2ae315f881d054f": {
      "model_module": "@jupyter-widgets/controls",
      "model_module_version": "1.4.0",
      "model_name": "FloatTextModel",
      "state": {
       "description": "Скорость ракеты",
       "layout": "IPY_MODEL_4d28934aa50747c799d323b1fa2b68b0",
       "step": null,
       "style": "IPY_MODEL_cc4969cb0f8c419c8bee529ea510fd9d",
       "value": 1000
      }
     },
     "21f348fb0c4b48559dc6f7cf704d787e": {
      "model_module": "@jupyter-widgets/controls",
      "model_module_version": "1.4.0",
      "model_name": "FloatTextModel",
      "state": {
       "description": "Угол старта ракеты",
       "layout": "IPY_MODEL_f4b3de1c77774ab99ce60b01b2fd2d0f",
       "step": null,
       "style": "IPY_MODEL_1e0bc6bb85ea4b35acf4f8e6d4a29270",
       "value": 0.7853981633974483
      }
     },
     "2cb2611ac0244c0cb62f8c9b44ae16f4": {
      "model_module": "@jupyter-widgets/base",
      "model_module_version": "1.1.0",
      "model_name": "LayoutModel",
      "state": {}
     },
     "31f1610de6384e3bb94d1f5daba028b3": {
      "model_module": "@jupyter-widgets/controls",
      "model_module_version": "1.4.0",
      "model_name": "FloatTextModel",
      "state": {
       "description": "Положение точки A",
       "layout": "IPY_MODEL_12c6843e8cfd43afa97e210fef092e41",
       "step": null,
       "style": "IPY_MODEL_5f0d92f97ffa4bf692caeeada4bc4b94"
      }
     },
     "353e425119f342c7a09478b9f2b576ad": {
      "model_module": "@jupyter-widgets/base",
      "model_module_version": "1.1.0",
      "model_name": "LayoutModel",
      "state": {}
     },
     "36ae4353b13a4553b1128e8445deeb6a": {
      "model_module": "@jupyter-widgets/controls",
      "model_module_version": "1.4.0",
      "model_name": "DescriptionStyleModel",
      "state": {
       "description_width": "initial"
      }
     },
     "3c5036feee2a4d86b1d6a0a87a4adc14": {
      "model_module": "@jupyter-widgets/controls",
      "model_module_version": "1.4.0",
      "model_name": "DescriptionStyleModel",
      "state": {
       "description_width": "initial"
      }
     },
     "4224404c126549fba4d0511499c287d9": {
      "model_module": "@jupyter-widgets/controls",
      "model_module_version": "1.4.0",
      "model_name": "IntTextModel",
      "state": {
       "description": "Время начала измерений",
       "layout": "IPY_MODEL_7205984569704d88b0d7a153e667f714",
       "step": 1,
       "style": "IPY_MODEL_f32069beff90454b86d1cdd249cc4ddf",
       "value": 40
      }
     },
     "498e59f93e0a43279298cb215f5b9b5a": {
      "model_module": "@jupyter-widgets/controls",
      "model_module_version": "1.4.0",
      "model_name": "IntTextModel",
      "state": {
       "description": "Время окончания измерений",
       "layout": "IPY_MODEL_d41f3193db0247eaad027438dcc7b560",
       "step": 1,
       "style": "IPY_MODEL_3c5036feee2a4d86b1d6a0a87a4adc14",
       "value": 15
      }
     },
     "49a4ac581ad644229c4602b6f6a984a6": {
      "model_module": "@jupyter-widgets/controls",
      "model_module_version": "1.4.0",
      "model_name": "SliderStyleModel",
      "state": {
       "description_width": ""
      }
     },
     "4d28934aa50747c799d323b1fa2b68b0": {
      "model_module": "@jupyter-widgets/base",
      "model_module_version": "1.1.0",
      "model_name": "LayoutModel",
      "state": {}
     },
     "5027dc335cd743a5b36af17e12b5cf7d": {
      "model_module": "@jupyter-widgets/controls",
      "model_module_version": "1.4.0",
      "model_name": "DescriptionStyleModel",
      "state": {
       "description_width": "initial"
      }
     },
     "583c880776094ae9b020f639b5a60af4": {
      "model_module": "@jupyter-widgets/base",
      "model_module_version": "1.1.0",
      "model_name": "LayoutModel",
      "state": {}
     },
     "5af63002b70a469b9a67bf27cfa034c6": {
      "model_module": "@jupyter-widgets/controls",
      "model_module_version": "1.4.0",
      "model_name": "DescriptionStyleModel",
      "state": {
       "description_width": "initial"
      }
     },
     "5b4d3ecf3fa3465d95a5303051594c41": {
      "model_module": "@jupyter-widgets/base",
      "model_module_version": "1.1.0",
      "model_name": "LayoutModel",
      "state": {}
     },
     "5f0d92f97ffa4bf692caeeada4bc4b94": {
      "model_module": "@jupyter-widgets/controls",
      "model_module_version": "1.4.0",
      "model_name": "DescriptionStyleModel",
      "state": {
       "description_width": "initial"
      }
     },
     "5fc57e8e496a4de5937170b0a83f39b5": {
      "model_module": "@jupyter-widgets/base",
      "model_module_version": "1.1.0",
      "model_name": "LayoutModel",
      "state": {}
     },
     "623713405a9f443eb21034038b04880d": {
      "model_module": "@jupyter-widgets/base",
      "model_module_version": "1.1.0",
      "model_name": "LayoutModel",
      "state": {}
     },
     "64c4588e74aa4541a2f2ff84ce4fa2b7": {
      "model_module": "@jupyter-widgets/controls",
      "model_module_version": "1.4.0",
      "model_name": "IntTextModel",
      "state": {
       "description": "Время окончания измерений",
       "layout": "IPY_MODEL_b393dfdcc3084035aa422c54d7702f84",
       "step": 1,
       "style": "IPY_MODEL_5af63002b70a469b9a67bf27cfa034c6",
       "value": 15
      }
     },
     "68bd7d97cedc4407966675fd7c48b582": {
      "model_module": "@jupyter-widgets/output",
      "model_module_version": "1.0.0",
      "model_name": "OutputModel",
      "state": {
       "layout": "IPY_MODEL_353e425119f342c7a09478b9f2b576ad"
      }
     },
     "68cd8437c7a94a588b342a49d9b82707": {
      "model_module": "@jupyter-widgets/controls",
      "model_module_version": "1.4.0",
      "model_name": "VBoxModel",
      "state": {
       "_dom_classes": [
        "widget-interact"
       ],
       "children": [
        "IPY_MODEL_e8446824359e4124ba633e0694f07596",
        "IPY_MODEL_80c9da100f0c4a72b16709eb733be6ac"
       ],
       "layout": "IPY_MODEL_5fc57e8e496a4de5937170b0a83f39b5"
      }
     },
     "71e9026a89e1436aa036f7e53d186cc4": {
      "model_module": "@jupyter-widgets/controls",
      "model_module_version": "1.4.0",
      "model_name": "DescriptionStyleModel",
      "state": {
       "description_width": "initial"
      }
     },
     "7205984569704d88b0d7a153e667f714": {
      "model_module": "@jupyter-widgets/base",
      "model_module_version": "1.1.0",
      "model_name": "LayoutModel",
      "state": {}
     },
     "726bded009784914b5949e0f32add008": {
      "model_module": "@jupyter-widgets/controls",
      "model_module_version": "1.4.0",
      "model_name": "FloatTextModel",
      "state": {
       "description": "Угол старта ракеты",
       "layout": "IPY_MODEL_7374a86555ba46f9ba3f526378974ee3",
       "step": null,
       "style": "IPY_MODEL_a32534219ecd40d8a967229e103626ef",
       "value": 0.7853981633974483
      }
     },
     "7374a86555ba46f9ba3f526378974ee3": {
      "model_module": "@jupyter-widgets/base",
      "model_module_version": "1.1.0",
      "model_name": "LayoutModel",
      "state": {}
     },
     "748fad138847441697983d35365b7910": {
      "model_module": "@jupyter-widgets/controls",
      "model_module_version": "1.4.0",
      "model_name": "DescriptionStyleModel",
      "state": {
       "description_width": "initial"
      }
     },
     "770ceff0f9b8401bb30542939fc19f32": {
      "model_module": "@jupyter-widgets/controls",
      "model_module_version": "1.4.0",
      "model_name": "FloatTextModel",
      "state": {
       "description": "Положение точки A",
       "layout": "IPY_MODEL_623713405a9f443eb21034038b04880d",
       "step": null,
       "style": "IPY_MODEL_71e9026a89e1436aa036f7e53d186cc4"
      }
     },
     "798afa6d77bd48498ea9b09cd5f35058": {
      "model_module": "@jupyter-widgets/controls",
      "model_module_version": "1.4.0",
      "model_name": "FloatTextModel",
      "state": {
       "description": "Скорость ракеты",
       "layout": "IPY_MODEL_156c45142713451ba805929dc77db9cd",
       "step": null,
       "style": "IPY_MODEL_89a3be29aba94d1a95b60f1013ff8484",
       "value": 1000
      }
     },
     "80c9da100f0c4a72b16709eb733be6ac": {
      "model_module": "@jupyter-widgets/output",
      "model_module_version": "1.0.0",
      "model_name": "OutputModel",
      "state": {
       "layout": "IPY_MODEL_d277ab4224784a26a22d9d0d3adde319"
      }
     },
     "89a3be29aba94d1a95b60f1013ff8484": {
      "model_module": "@jupyter-widgets/controls",
      "model_module_version": "1.4.0",
      "model_name": "DescriptionStyleModel",
      "state": {
       "description_width": "initial"
      }
     },
     "8c9ffe8434694717bc5ba0cd0b3f661d": {
      "model_module": "@jupyter-widgets/controls",
      "model_module_version": "1.4.0",
      "model_name": "DescriptionStyleModel",
      "state": {
       "description_width": "initial"
      }
     },
     "a32534219ecd40d8a967229e103626ef": {
      "model_module": "@jupyter-widgets/controls",
      "model_module_version": "1.4.0",
      "model_name": "DescriptionStyleModel",
      "state": {
       "description_width": "initial"
      }
     },
     "a56f17aede9347f49a6e798474bf7815": {
      "model_module": "@jupyter-widgets/controls",
      "model_module_version": "1.4.0",
      "model_name": "FloatTextModel",
      "state": {
       "description": "Размер ошибки",
       "layout": "IPY_MODEL_5b4d3ecf3fa3465d95a5303051594c41",
       "step": null,
       "style": "IPY_MODEL_748fad138847441697983d35365b7910",
       "value": 0.01
      }
     },
     "b393dfdcc3084035aa422c54d7702f84": {
      "model_module": "@jupyter-widgets/base",
      "model_module_version": "1.1.0",
      "model_name": "LayoutModel",
      "state": {}
     },
     "b550975d1972491e88b816c885d59f42": {
      "model_module": "@jupyter-widgets/controls",
      "model_module_version": "1.4.0",
      "model_name": "IntTextModel",
      "state": {
       "description": "Время начала измерений",
       "layout": "IPY_MODEL_161487a90ee142dea6626116a9cbd783",
       "step": 1,
       "style": "IPY_MODEL_5027dc335cd743a5b36af17e12b5cf7d",
       "value": 40
      }
     },
     "c0b93717f84d4a24becf290873946fba": {
      "model_module": "@jupyter-widgets/controls",
      "model_module_version": "1.4.0",
      "model_name": "VBoxModel",
      "state": {
       "_dom_classes": [
        "widget-interact"
       ],
       "children": [
        "IPY_MODEL_dfda75ff6b704926b39dddc8c12f739e",
        "IPY_MODEL_68bd7d97cedc4407966675fd7c48b582"
       ],
       "layout": "IPY_MODEL_da5589e45b644148ba714557b6514964"
      }
     },
     "c5e24e286afe437aa91156a2896a0099": {
      "model_module": "@jupyter-widgets/controls",
      "model_module_version": "1.4.0",
      "model_name": "FloatTextModel",
      "state": {
       "description": "Размер ошибки",
       "layout": "IPY_MODEL_cec3c028978b4d16bda05af56b0adfa8",
       "step": null,
       "style": "IPY_MODEL_085dddad998443a3a7a43afd72dceb87",
       "value": 0.01
      }
     },
     "cc4969cb0f8c419c8bee529ea510fd9d": {
      "model_module": "@jupyter-widgets/controls",
      "model_module_version": "1.4.0",
      "model_name": "DescriptionStyleModel",
      "state": {
       "description_width": "initial"
      }
     },
     "cec3c028978b4d16bda05af56b0adfa8": {
      "model_module": "@jupyter-widgets/base",
      "model_module_version": "1.1.0",
      "model_name": "LayoutModel",
      "state": {}
     },
     "d231d599bf1b41faa254f186a8396f94": {
      "model_module": "@jupyter-widgets/controls",
      "model_module_version": "1.4.0",
      "model_name": "FloatTextModel",
      "state": {
       "description": "Скорость противоракеты",
       "layout": "IPY_MODEL_583c880776094ae9b020f639b5a60af4",
       "step": null,
       "style": "IPY_MODEL_36ae4353b13a4553b1128e8445deeb6a",
       "value": 2000
      }
     },
     "d277ab4224784a26a22d9d0d3adde319": {
      "model_module": "@jupyter-widgets/base",
      "model_module_version": "1.1.0",
      "model_name": "LayoutModel",
      "state": {}
     },
     "d41f3193db0247eaad027438dcc7b560": {
      "model_module": "@jupyter-widgets/base",
      "model_module_version": "1.1.0",
      "model_name": "LayoutModel",
      "state": {}
     },
     "da5589e45b644148ba714557b6514964": {
      "model_module": "@jupyter-widgets/base",
      "model_module_version": "1.1.0",
      "model_name": "LayoutModel",
      "state": {}
     },
     "dfda75ff6b704926b39dddc8c12f739e": {
      "model_module": "@jupyter-widgets/controls",
      "model_module_version": "1.4.0",
      "model_name": "FloatSliderModel",
      "state": {
       "description": "t",
       "layout": "IPY_MODEL_1258a8bfb48c4b4eaff0e921a8a6a82a",
       "max": 144.20964981651179,
       "style": "IPY_MODEL_fe4d141195f2413a9a0356b3951c79a9",
       "value": 144
      }
     },
     "e8446824359e4124ba633e0694f07596": {
      "model_module": "@jupyter-widgets/controls",
      "model_module_version": "1.4.0",
      "model_name": "FloatSliderModel",
      "state": {
       "description": "t",
       "layout": "IPY_MODEL_0d0eccf53ea14d7a930b303c6d90e6d5",
       "max": 144.20964981651179,
       "style": "IPY_MODEL_49a4ac581ad644229c4602b6f6a984a6"
      }
     },
     "f32069beff90454b86d1cdd249cc4ddf": {
      "model_module": "@jupyter-widgets/controls",
      "model_module_version": "1.4.0",
      "model_name": "DescriptionStyleModel",
      "state": {
       "description_width": "initial"
      }
     },
     "f4b3de1c77774ab99ce60b01b2fd2d0f": {
      "model_module": "@jupyter-widgets/base",
      "model_module_version": "1.1.0",
      "model_name": "LayoutModel",
      "state": {}
     },
     "fe4d141195f2413a9a0356b3951c79a9": {
      "model_module": "@jupyter-widgets/controls",
      "model_module_version": "1.4.0",
      "model_name": "SliderStyleModel",
      "state": {
       "description_width": ""
      }
     }
    },
    "version_major": 2,
    "version_minor": 0
   }
  }
 },
 "nbformat": 4,
 "nbformat_minor": 2
}
