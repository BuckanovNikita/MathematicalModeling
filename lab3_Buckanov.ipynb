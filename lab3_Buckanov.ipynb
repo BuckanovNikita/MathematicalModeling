{
 "cells": [
  {
   "cell_type": "markdown",
   "metadata": {
    "ExecuteTime": {
     "end_time": "2018-10-13T20:26:59.081704Z",
     "start_time": "2018-10-13T20:26:59.077702Z"
    }
   },
   "source": [
    "# Лабораторная работа №3 \n",
    "## Моделирование работы системы ПВО"
   ]
  },
  {
   "cell_type": "code",
   "execution_count": 68,
   "metadata": {
    "ExecuteTime": {
     "end_time": "2018-10-18T14:00:13.214374Z",
     "start_time": "2018-10-18T14:00:13.210373Z"
    }
   },
   "outputs": [],
   "source": [
    "import numpy as np\n",
    "from scipy.constants import g, pi\n",
    "import matplotlib.pyplot as plt\n",
    "from scipy.optimize import minimize\n",
    "import ipywidgets as widgets\n",
    "from ipywidgets import interact, interactive, fixed, interact_manual"
   ]
  },
  {
   "cell_type": "code",
   "execution_count": 69,
   "metadata": {
    "ExecuteTime": {
     "end_time": "2018-10-18T14:00:13.522443Z",
     "start_time": "2018-10-18T14:00:13.513437Z"
    }
   },
   "outputs": [],
   "source": [
    "%matplotlib notebook\n",
    "style = {'description_width': 'initial'}"
   ]
  },
  {
   "cell_type": "code",
   "execution_count": 70,
   "metadata": {
    "ExecuteTime": {
     "end_time": "2018-10-18T14:00:13.741489Z",
     "start_time": "2018-10-18T14:00:13.689477Z"
    }
   },
   "outputs": [],
   "source": [
    "A_button = widgets.FloatText(value = 0, description='Положение точки A', style = style)\n",
    "U0_button = widgets.FloatText(value = 1000, description='Скорость ракеты', style = style)\n",
    "U0__button = widgets.FloatText(value = 2000, description='Скорость противоракеты', style = style)\n",
    "alpha_button = widgets.FloatText(value = pi/4, description='Угол старта ракеты', style = style)\n",
    "err_button = widgets.FloatText(value = 0.01, description='Размер ошибки', style = style)\n",
    "T1_button = widgets.IntText(value = 15, description='Время окончания измерений', style = style)\n",
    "T0_button = widgets.IntText(value = 40, description='Время начала измерений', style = style)"
   ]
  },
  {
   "cell_type": "code",
   "execution_count": 89,
   "metadata": {
    "ExecuteTime": {
     "end_time": "2018-10-18T14:07:33.877063Z",
     "start_time": "2018-10-18T14:07:33.861059Z"
    }
   },
   "outputs": [
    {
     "data": {
      "application/vnd.jupyter.widget-view+json": {
       "model_id": "b7cb3f35af474cfe9bb5e01b1340a5ad",
       "version_major": 2,
       "version_minor": 0
      },
      "text/plain": [
       "FloatText(value=0.0, description='Положение точки A', style=DescriptionStyle(description_width='initial'))"
      ]
     },
     "metadata": {},
     "output_type": "display_data"
    },
    {
     "data": {
      "application/vnd.jupyter.widget-view+json": {
       "model_id": "ba419bc78d7e411888887bc060d57233",
       "version_major": 2,
       "version_minor": 0
      },
      "text/plain": [
       "FloatText(value=1000.0, description='Скорость ракеты', style=DescriptionStyle(description_width='initial'))"
      ]
     },
     "metadata": {},
     "output_type": "display_data"
    },
    {
     "data": {
      "application/vnd.jupyter.widget-view+json": {
       "model_id": "54cc37519b1a4d6e872a7eeea3321408",
       "version_major": 2,
       "version_minor": 0
      },
      "text/plain": [
       "FloatText(value=2000.0, description='Скорость противоракеты', style=DescriptionStyle(description_width='initia…"
      ]
     },
     "metadata": {},
     "output_type": "display_data"
    },
    {
     "data": {
      "application/vnd.jupyter.widget-view+json": {
       "model_id": "b93430141d574693be1b518fdbbf2183",
       "version_major": 2,
       "version_minor": 0
      },
      "text/plain": [
       "FloatText(value=0.7853981633974483, description='Угол старта ракеты', style=DescriptionStyle(description_width…"
      ]
     },
     "metadata": {},
     "output_type": "display_data"
    },
    {
     "data": {
      "application/vnd.jupyter.widget-view+json": {
       "model_id": "58aab227758b462cb3269979c2b188aa",
       "version_major": 2,
       "version_minor": 0
      },
      "text/plain": [
       "FloatText(value=0.01, description='Размер ошибки', style=DescriptionStyle(description_width='initial'))"
      ]
     },
     "metadata": {},
     "output_type": "display_data"
    },
    {
     "data": {
      "application/vnd.jupyter.widget-view+json": {
       "model_id": "2636269b755d40ffb5ba8be2d410cf80",
       "version_major": 2,
       "version_minor": 0
      },
      "text/plain": [
       "IntText(value=15, description='Время окончания измерений', style=DescriptionStyle(description_width='initial')…"
      ]
     },
     "metadata": {},
     "output_type": "display_data"
    },
    {
     "data": {
      "application/vnd.jupyter.widget-view+json": {
       "model_id": "81bc8a0a151a41f289c67dc28930b5c0",
       "version_major": 2,
       "version_minor": 0
      },
      "text/plain": [
       "IntText(value=40, description='Время начала измерений', style=DescriptionStyle(description_width='initial'))"
      ]
     },
     "metadata": {},
     "output_type": "display_data"
    }
   ],
   "source": [
    "display(A_button)\n",
    "display(U0_button)\n",
    "display(U0__button)\n",
    "display(alpha_button)\n",
    "display(err_button)\n",
    "display(T1_button)\n",
    "display(T0_button)"
   ]
  },
  {
   "cell_type": "code",
   "execution_count": 90,
   "metadata": {
    "ExecuteTime": {
     "end_time": "2018-10-18T14:07:37.119825Z",
     "start_time": "2018-10-18T14:07:37.114827Z"
    }
   },
   "outputs": [],
   "source": [
    "A_ = A_button.value\n",
    "u0 = U0_button.value\n",
    "alpha = alpha_button.value\n",
    "err = err_button.value\n",
    "T0 = T0_button.value\n",
    "T1 = T1_button.value\n",
    "u0_ = U0__button.value"
   ]
  },
  {
   "cell_type": "markdown",
   "metadata": {
    "ExecuteTime": {
     "end_time": "2018-10-14T07:28:11.970149Z",
     "start_time": "2018-10-14T07:28:11.921306Z"
    }
   },
   "source": [
    "### Уравнения движения тела брошенного под углом к горизонту:\n",
    "\n",
    "$ x = x_0 + u_0cos(\\alpha)t$\n",
    "\n",
    "$y = y_0 + u_0sin(\\alpha)t - \\frac{gt^2}{2}$ \n",
    "\n",
    "$L = \\frac{u_0^2sin(2\\alpha)}{g}$\n",
    "\n",
    "$t_{полета} = \\frac{2u_0sin(\\alpha)}{g} = 2t_{max}$  "
   ]
  },
  {
   "cell_type": "code",
   "execution_count": 91,
   "metadata": {
    "ExecuteTime": {
     "end_time": "2018-10-18T14:07:37.604939Z",
     "start_time": "2018-10-18T14:07:37.596933Z"
    }
   },
   "outputs": [],
   "source": [
    "flight_time = 2*u0*np.sin(alpha)/g\n",
    "t = np.linspace(0, flight_time, 1000)\n",
    "D = u0**2*np.sin(2*alpha)/g\n",
    "C = 0.75*(D-A_)\n",
    "x = lambda t, alpha1=alpha, x0=0, u0=u0: x0 + u0*np.cos(alpha1)*t\n",
    "y = lambda t, alpha1=alpha, y0=0, u0=u0: y0 + u0*np.sin(alpha1)*t - (g*t**2)/2\n",
    "te = np.linspace(15,T0,26)\n",
    "xe = x(te)\n",
    "ye = y(te)*(1+err*np.random.randn(26))\n",
    "A = np.matrix([xe**2, xe, np.ones(26)]).T\n",
    "koef = np.linalg.inv(A.T*A)*A.T*np.matrix(ye).T\n",
    "#koef = np.linalg.lstsq(A, ye,rcond=None)[0]\n",
    "#koef = np.matrix(koef).T"
   ]
  },
  {
   "cell_type": "markdown",
   "metadata": {
    "ExecuteTime": {
     "end_time": "2018-10-13T20:27:00.716072Z",
     "start_time": "2018-10-13T20:27:00.709069Z"
    }
   },
   "source": [
    "находим точку запуска решая полученное уравнение траектории ракеты\n",
    "\n",
    "угол полета ракеты возмездия находим из уравнения полета тела\n",
    "\n"
   ]
  },
  {
   "cell_type": "code",
   "execution_count": 92,
   "metadata": {
    "ExecuteTime": {
     "end_time": "2018-10-18T14:07:38.291089Z",
     "start_time": "2018-10-18T14:07:38.287086Z"
    }
   },
   "outputs": [],
   "source": [
    "x0 = (-koef[1,0] + np.sqrt(koef[1,0]**2-4*koef[0,0]*koef[2,0]))/(2*koef[0,0])\n",
    "alpha_ = np.arcsin((C-x0)*g/(u0_**2))/2"
   ]
  },
  {
   "cell_type": "markdown",
   "metadata": {
    "ExecuteTime": {
     "end_time": "2018-10-13T20:35:14.528643Z",
     "start_time": "2018-10-13T20:35:14.523644Z"
    }
   },
   "source": [
    "угол полета антиракеты найдем минимизируя предполагаемое расстояние, как функцию от времени и угла полета ракеты"
   ]
  },
  {
   "cell_type": "code",
   "execution_count": 93,
   "metadata": {
    "ExecuteTime": {
     "end_time": "2018-10-18T14:07:39.165459Z",
     "start_time": "2018-10-18T14:07:39.157457Z"
    }
   },
   "outputs": [],
   "source": [
    "f = lambda t: (x(t[0])-x(t[0]-T0, t[1], C, -1*u0_))**2+\\\n",
    "    (koef[0,0]*(x(t[0])**2)+koef[1,0]*x(t[0])+koef[2,0] -y(t[0]-T0, t[1], 0, u0_))**2\n",
    "c = minimize(f,[T0+1,pi/4],bounds=[(T0, 2*u0*np.sin(alpha)/g), (0, pi/2)])['x']"
   ]
  },
  {
   "cell_type": "code",
   "execution_count": 98,
   "metadata": {
    "ExecuteTime": {
     "end_time": "2018-10-18T14:08:34.299450Z",
     "start_time": "2018-10-18T14:08:34.191428Z"
    }
   },
   "outputs": [
    {
     "data": {
      "application/javascript": [
       "/* Put everything inside the global mpl namespace */\n",
       "window.mpl = {};\n",
       "\n",
       "\n",
       "mpl.get_websocket_type = function() {\n",
       "    if (typeof(WebSocket) !== 'undefined') {\n",
       "        return WebSocket;\n",
       "    } else if (typeof(MozWebSocket) !== 'undefined') {\n",
       "        return MozWebSocket;\n",
       "    } else {\n",
       "        alert('Your browser does not have WebSocket support.' +\n",
       "              'Please try Chrome, Safari or Firefox ≥ 6. ' +\n",
       "              'Firefox 4 and 5 are also supported but you ' +\n",
       "              'have to enable WebSockets in about:config.');\n",
       "    };\n",
       "}\n",
       "\n",
       "mpl.figure = function(figure_id, websocket, ondownload, parent_element) {\n",
       "    this.id = figure_id;\n",
       "\n",
       "    this.ws = websocket;\n",
       "\n",
       "    this.supports_binary = (this.ws.binaryType != undefined);\n",
       "\n",
       "    if (!this.supports_binary) {\n",
       "        var warnings = document.getElementById(\"mpl-warnings\");\n",
       "        if (warnings) {\n",
       "            warnings.style.display = 'block';\n",
       "            warnings.textContent = (\n",
       "                \"This browser does not support binary websocket messages. \" +\n",
       "                    \"Performance may be slow.\");\n",
       "        }\n",
       "    }\n",
       "\n",
       "    this.imageObj = new Image();\n",
       "\n",
       "    this.context = undefined;\n",
       "    this.message = undefined;\n",
       "    this.canvas = undefined;\n",
       "    this.rubberband_canvas = undefined;\n",
       "    this.rubberband_context = undefined;\n",
       "    this.format_dropdown = undefined;\n",
       "\n",
       "    this.image_mode = 'full';\n",
       "\n",
       "    this.root = $('<div/>');\n",
       "    this._root_extra_style(this.root)\n",
       "    this.root.attr('style', 'display: inline-block');\n",
       "\n",
       "    $(parent_element).append(this.root);\n",
       "\n",
       "    this._init_header(this);\n",
       "    this._init_canvas(this);\n",
       "    this._init_toolbar(this);\n",
       "\n",
       "    var fig = this;\n",
       "\n",
       "    this.waiting = false;\n",
       "\n",
       "    this.ws.onopen =  function () {\n",
       "            fig.send_message(\"supports_binary\", {value: fig.supports_binary});\n",
       "            fig.send_message(\"send_image_mode\", {});\n",
       "            if (mpl.ratio != 1) {\n",
       "                fig.send_message(\"set_dpi_ratio\", {'dpi_ratio': mpl.ratio});\n",
       "            }\n",
       "            fig.send_message(\"refresh\", {});\n",
       "        }\n",
       "\n",
       "    this.imageObj.onload = function() {\n",
       "            if (fig.image_mode == 'full') {\n",
       "                // Full images could contain transparency (where diff images\n",
       "                // almost always do), so we need to clear the canvas so that\n",
       "                // there is no ghosting.\n",
       "                fig.context.clearRect(0, 0, fig.canvas.width, fig.canvas.height);\n",
       "            }\n",
       "            fig.context.drawImage(fig.imageObj, 0, 0);\n",
       "        };\n",
       "\n",
       "    this.imageObj.onunload = function() {\n",
       "        fig.ws.close();\n",
       "    }\n",
       "\n",
       "    this.ws.onmessage = this._make_on_message_function(this);\n",
       "\n",
       "    this.ondownload = ondownload;\n",
       "}\n",
       "\n",
       "mpl.figure.prototype._init_header = function() {\n",
       "    var titlebar = $(\n",
       "        '<div class=\"ui-dialog-titlebar ui-widget-header ui-corner-all ' +\n",
       "        'ui-helper-clearfix\"/>');\n",
       "    var titletext = $(\n",
       "        '<div class=\"ui-dialog-title\" style=\"width: 100%; ' +\n",
       "        'text-align: center; padding: 3px;\"/>');\n",
       "    titlebar.append(titletext)\n",
       "    this.root.append(titlebar);\n",
       "    this.header = titletext[0];\n",
       "}\n",
       "\n",
       "\n",
       "\n",
       "mpl.figure.prototype._canvas_extra_style = function(canvas_div) {\n",
       "\n",
       "}\n",
       "\n",
       "\n",
       "mpl.figure.prototype._root_extra_style = function(canvas_div) {\n",
       "\n",
       "}\n",
       "\n",
       "mpl.figure.prototype._init_canvas = function() {\n",
       "    var fig = this;\n",
       "\n",
       "    var canvas_div = $('<div/>');\n",
       "\n",
       "    canvas_div.attr('style', 'position: relative; clear: both; outline: 0');\n",
       "\n",
       "    function canvas_keyboard_event(event) {\n",
       "        return fig.key_event(event, event['data']);\n",
       "    }\n",
       "\n",
       "    canvas_div.keydown('key_press', canvas_keyboard_event);\n",
       "    canvas_div.keyup('key_release', canvas_keyboard_event);\n",
       "    this.canvas_div = canvas_div\n",
       "    this._canvas_extra_style(canvas_div)\n",
       "    this.root.append(canvas_div);\n",
       "\n",
       "    var canvas = $('<canvas/>');\n",
       "    canvas.addClass('mpl-canvas');\n",
       "    canvas.attr('style', \"left: 0; top: 0; z-index: 0; outline: 0\")\n",
       "\n",
       "    this.canvas = canvas[0];\n",
       "    this.context = canvas[0].getContext(\"2d\");\n",
       "\n",
       "    var backingStore = this.context.backingStorePixelRatio ||\n",
       "\tthis.context.webkitBackingStorePixelRatio ||\n",
       "\tthis.context.mozBackingStorePixelRatio ||\n",
       "\tthis.context.msBackingStorePixelRatio ||\n",
       "\tthis.context.oBackingStorePixelRatio ||\n",
       "\tthis.context.backingStorePixelRatio || 1;\n",
       "\n",
       "    mpl.ratio = (window.devicePixelRatio || 1) / backingStore;\n",
       "\n",
       "    var rubberband = $('<canvas/>');\n",
       "    rubberband.attr('style', \"position: absolute; left: 0; top: 0; z-index: 1;\")\n",
       "\n",
       "    var pass_mouse_events = true;\n",
       "\n",
       "    canvas_div.resizable({\n",
       "        start: function(event, ui) {\n",
       "            pass_mouse_events = false;\n",
       "        },\n",
       "        resize: function(event, ui) {\n",
       "            fig.request_resize(ui.size.width, ui.size.height);\n",
       "        },\n",
       "        stop: function(event, ui) {\n",
       "            pass_mouse_events = true;\n",
       "            fig.request_resize(ui.size.width, ui.size.height);\n",
       "        },\n",
       "    });\n",
       "\n",
       "    function mouse_event_fn(event) {\n",
       "        if (pass_mouse_events)\n",
       "            return fig.mouse_event(event, event['data']);\n",
       "    }\n",
       "\n",
       "    rubberband.mousedown('button_press', mouse_event_fn);\n",
       "    rubberband.mouseup('button_release', mouse_event_fn);\n",
       "    // Throttle sequential mouse events to 1 every 20ms.\n",
       "    rubberband.mousemove('motion_notify', mouse_event_fn);\n",
       "\n",
       "    rubberband.mouseenter('figure_enter', mouse_event_fn);\n",
       "    rubberband.mouseleave('figure_leave', mouse_event_fn);\n",
       "\n",
       "    canvas_div.on(\"wheel\", function (event) {\n",
       "        event = event.originalEvent;\n",
       "        event['data'] = 'scroll'\n",
       "        if (event.deltaY < 0) {\n",
       "            event.step = 1;\n",
       "        } else {\n",
       "            event.step = -1;\n",
       "        }\n",
       "        mouse_event_fn(event);\n",
       "    });\n",
       "\n",
       "    canvas_div.append(canvas);\n",
       "    canvas_div.append(rubberband);\n",
       "\n",
       "    this.rubberband = rubberband;\n",
       "    this.rubberband_canvas = rubberband[0];\n",
       "    this.rubberband_context = rubberband[0].getContext(\"2d\");\n",
       "    this.rubberband_context.strokeStyle = \"#000000\";\n",
       "\n",
       "    this._resize_canvas = function(width, height) {\n",
       "        // Keep the size of the canvas, canvas container, and rubber band\n",
       "        // canvas in synch.\n",
       "        canvas_div.css('width', width)\n",
       "        canvas_div.css('height', height)\n",
       "\n",
       "        canvas.attr('width', width * mpl.ratio);\n",
       "        canvas.attr('height', height * mpl.ratio);\n",
       "        canvas.attr('style', 'width: ' + width + 'px; height: ' + height + 'px;');\n",
       "\n",
       "        rubberband.attr('width', width);\n",
       "        rubberband.attr('height', height);\n",
       "    }\n",
       "\n",
       "    // Set the figure to an initial 600x600px, this will subsequently be updated\n",
       "    // upon first draw.\n",
       "    this._resize_canvas(600, 600);\n",
       "\n",
       "    // Disable right mouse context menu.\n",
       "    $(this.rubberband_canvas).bind(\"contextmenu\",function(e){\n",
       "        return false;\n",
       "    });\n",
       "\n",
       "    function set_focus () {\n",
       "        canvas.focus();\n",
       "        canvas_div.focus();\n",
       "    }\n",
       "\n",
       "    window.setTimeout(set_focus, 100);\n",
       "}\n",
       "\n",
       "mpl.figure.prototype._init_toolbar = function() {\n",
       "    var fig = this;\n",
       "\n",
       "    var nav_element = $('<div/>')\n",
       "    nav_element.attr('style', 'width: 100%');\n",
       "    this.root.append(nav_element);\n",
       "\n",
       "    // Define a callback function for later on.\n",
       "    function toolbar_event(event) {\n",
       "        return fig.toolbar_button_onclick(event['data']);\n",
       "    }\n",
       "    function toolbar_mouse_event(event) {\n",
       "        return fig.toolbar_button_onmouseover(event['data']);\n",
       "    }\n",
       "\n",
       "    for(var toolbar_ind in mpl.toolbar_items) {\n",
       "        var name = mpl.toolbar_items[toolbar_ind][0];\n",
       "        var tooltip = mpl.toolbar_items[toolbar_ind][1];\n",
       "        var image = mpl.toolbar_items[toolbar_ind][2];\n",
       "        var method_name = mpl.toolbar_items[toolbar_ind][3];\n",
       "\n",
       "        if (!name) {\n",
       "            // put a spacer in here.\n",
       "            continue;\n",
       "        }\n",
       "        var button = $('<button/>');\n",
       "        button.addClass('ui-button ui-widget ui-state-default ui-corner-all ' +\n",
       "                        'ui-button-icon-only');\n",
       "        button.attr('role', 'button');\n",
       "        button.attr('aria-disabled', 'false');\n",
       "        button.click(method_name, toolbar_event);\n",
       "        button.mouseover(tooltip, toolbar_mouse_event);\n",
       "\n",
       "        var icon_img = $('<span/>');\n",
       "        icon_img.addClass('ui-button-icon-primary ui-icon');\n",
       "        icon_img.addClass(image);\n",
       "        icon_img.addClass('ui-corner-all');\n",
       "\n",
       "        var tooltip_span = $('<span/>');\n",
       "        tooltip_span.addClass('ui-button-text');\n",
       "        tooltip_span.html(tooltip);\n",
       "\n",
       "        button.append(icon_img);\n",
       "        button.append(tooltip_span);\n",
       "\n",
       "        nav_element.append(button);\n",
       "    }\n",
       "\n",
       "    var fmt_picker_span = $('<span/>');\n",
       "\n",
       "    var fmt_picker = $('<select/>');\n",
       "    fmt_picker.addClass('mpl-toolbar-option ui-widget ui-widget-content');\n",
       "    fmt_picker_span.append(fmt_picker);\n",
       "    nav_element.append(fmt_picker_span);\n",
       "    this.format_dropdown = fmt_picker[0];\n",
       "\n",
       "    for (var ind in mpl.extensions) {\n",
       "        var fmt = mpl.extensions[ind];\n",
       "        var option = $(\n",
       "            '<option/>', {selected: fmt === mpl.default_extension}).html(fmt);\n",
       "        fmt_picker.append(option)\n",
       "    }\n",
       "\n",
       "    // Add hover states to the ui-buttons\n",
       "    $( \".ui-button\" ).hover(\n",
       "        function() { $(this).addClass(\"ui-state-hover\");},\n",
       "        function() { $(this).removeClass(\"ui-state-hover\");}\n",
       "    );\n",
       "\n",
       "    var status_bar = $('<span class=\"mpl-message\"/>');\n",
       "    nav_element.append(status_bar);\n",
       "    this.message = status_bar[0];\n",
       "}\n",
       "\n",
       "mpl.figure.prototype.request_resize = function(x_pixels, y_pixels) {\n",
       "    // Request matplotlib to resize the figure. Matplotlib will then trigger a resize in the client,\n",
       "    // which will in turn request a refresh of the image.\n",
       "    this.send_message('resize', {'width': x_pixels, 'height': y_pixels});\n",
       "}\n",
       "\n",
       "mpl.figure.prototype.send_message = function(type, properties) {\n",
       "    properties['type'] = type;\n",
       "    properties['figure_id'] = this.id;\n",
       "    this.ws.send(JSON.stringify(properties));\n",
       "}\n",
       "\n",
       "mpl.figure.prototype.send_draw_message = function() {\n",
       "    if (!this.waiting) {\n",
       "        this.waiting = true;\n",
       "        this.ws.send(JSON.stringify({type: \"draw\", figure_id: this.id}));\n",
       "    }\n",
       "}\n",
       "\n",
       "\n",
       "mpl.figure.prototype.handle_save = function(fig, msg) {\n",
       "    var format_dropdown = fig.format_dropdown;\n",
       "    var format = format_dropdown.options[format_dropdown.selectedIndex].value;\n",
       "    fig.ondownload(fig, format);\n",
       "}\n",
       "\n",
       "\n",
       "mpl.figure.prototype.handle_resize = function(fig, msg) {\n",
       "    var size = msg['size'];\n",
       "    if (size[0] != fig.canvas.width || size[1] != fig.canvas.height) {\n",
       "        fig._resize_canvas(size[0], size[1]);\n",
       "        fig.send_message(\"refresh\", {});\n",
       "    };\n",
       "}\n",
       "\n",
       "mpl.figure.prototype.handle_rubberband = function(fig, msg) {\n",
       "    var x0 = msg['x0'] / mpl.ratio;\n",
       "    var y0 = (fig.canvas.height - msg['y0']) / mpl.ratio;\n",
       "    var x1 = msg['x1'] / mpl.ratio;\n",
       "    var y1 = (fig.canvas.height - msg['y1']) / mpl.ratio;\n",
       "    x0 = Math.floor(x0) + 0.5;\n",
       "    y0 = Math.floor(y0) + 0.5;\n",
       "    x1 = Math.floor(x1) + 0.5;\n",
       "    y1 = Math.floor(y1) + 0.5;\n",
       "    var min_x = Math.min(x0, x1);\n",
       "    var min_y = Math.min(y0, y1);\n",
       "    var width = Math.abs(x1 - x0);\n",
       "    var height = Math.abs(y1 - y0);\n",
       "\n",
       "    fig.rubberband_context.clearRect(\n",
       "        0, 0, fig.canvas.width, fig.canvas.height);\n",
       "\n",
       "    fig.rubberband_context.strokeRect(min_x, min_y, width, height);\n",
       "}\n",
       "\n",
       "mpl.figure.prototype.handle_figure_label = function(fig, msg) {\n",
       "    // Updates the figure title.\n",
       "    fig.header.textContent = msg['label'];\n",
       "}\n",
       "\n",
       "mpl.figure.prototype.handle_cursor = function(fig, msg) {\n",
       "    var cursor = msg['cursor'];\n",
       "    switch(cursor)\n",
       "    {\n",
       "    case 0:\n",
       "        cursor = 'pointer';\n",
       "        break;\n",
       "    case 1:\n",
       "        cursor = 'default';\n",
       "        break;\n",
       "    case 2:\n",
       "        cursor = 'crosshair';\n",
       "        break;\n",
       "    case 3:\n",
       "        cursor = 'move';\n",
       "        break;\n",
       "    }\n",
       "    fig.rubberband_canvas.style.cursor = cursor;\n",
       "}\n",
       "\n",
       "mpl.figure.prototype.handle_message = function(fig, msg) {\n",
       "    fig.message.textContent = msg['message'];\n",
       "}\n",
       "\n",
       "mpl.figure.prototype.handle_draw = function(fig, msg) {\n",
       "    // Request the server to send over a new figure.\n",
       "    fig.send_draw_message();\n",
       "}\n",
       "\n",
       "mpl.figure.prototype.handle_image_mode = function(fig, msg) {\n",
       "    fig.image_mode = msg['mode'];\n",
       "}\n",
       "\n",
       "mpl.figure.prototype.updated_canvas_event = function() {\n",
       "    // Called whenever the canvas gets updated.\n",
       "    this.send_message(\"ack\", {});\n",
       "}\n",
       "\n",
       "// A function to construct a web socket function for onmessage handling.\n",
       "// Called in the figure constructor.\n",
       "mpl.figure.prototype._make_on_message_function = function(fig) {\n",
       "    return function socket_on_message(evt) {\n",
       "        if (evt.data instanceof Blob) {\n",
       "            /* FIXME: We get \"Resource interpreted as Image but\n",
       "             * transferred with MIME type text/plain:\" errors on\n",
       "             * Chrome.  But how to set the MIME type?  It doesn't seem\n",
       "             * to be part of the websocket stream */\n",
       "            evt.data.type = \"image/png\";\n",
       "\n",
       "            /* Free the memory for the previous frames */\n",
       "            if (fig.imageObj.src) {\n",
       "                (window.URL || window.webkitURL).revokeObjectURL(\n",
       "                    fig.imageObj.src);\n",
       "            }\n",
       "\n",
       "            fig.imageObj.src = (window.URL || window.webkitURL).createObjectURL(\n",
       "                evt.data);\n",
       "            fig.updated_canvas_event();\n",
       "            fig.waiting = false;\n",
       "            return;\n",
       "        }\n",
       "        else if (typeof evt.data === 'string' && evt.data.slice(0, 21) == \"data:image/png;base64\") {\n",
       "            fig.imageObj.src = evt.data;\n",
       "            fig.updated_canvas_event();\n",
       "            fig.waiting = false;\n",
       "            return;\n",
       "        }\n",
       "\n",
       "        var msg = JSON.parse(evt.data);\n",
       "        var msg_type = msg['type'];\n",
       "\n",
       "        // Call the  \"handle_{type}\" callback, which takes\n",
       "        // the figure and JSON message as its only arguments.\n",
       "        try {\n",
       "            var callback = fig[\"handle_\" + msg_type];\n",
       "        } catch (e) {\n",
       "            console.log(\"No handler for the '\" + msg_type + \"' message type: \", msg);\n",
       "            return;\n",
       "        }\n",
       "\n",
       "        if (callback) {\n",
       "            try {\n",
       "                // console.log(\"Handling '\" + msg_type + \"' message: \", msg);\n",
       "                callback(fig, msg);\n",
       "            } catch (e) {\n",
       "                console.log(\"Exception inside the 'handler_\" + msg_type + \"' callback:\", e, e.stack, msg);\n",
       "            }\n",
       "        }\n",
       "    };\n",
       "}\n",
       "\n",
       "// from http://stackoverflow.com/questions/1114465/getting-mouse-location-in-canvas\n",
       "mpl.findpos = function(e) {\n",
       "    //this section is from http://www.quirksmode.org/js/events_properties.html\n",
       "    var targ;\n",
       "    if (!e)\n",
       "        e = window.event;\n",
       "    if (e.target)\n",
       "        targ = e.target;\n",
       "    else if (e.srcElement)\n",
       "        targ = e.srcElement;\n",
       "    if (targ.nodeType == 3) // defeat Safari bug\n",
       "        targ = targ.parentNode;\n",
       "\n",
       "    // jQuery normalizes the pageX and pageY\n",
       "    // pageX,Y are the mouse positions relative to the document\n",
       "    // offset() returns the position of the element relative to the document\n",
       "    var x = e.pageX - $(targ).offset().left;\n",
       "    var y = e.pageY - $(targ).offset().top;\n",
       "\n",
       "    return {\"x\": x, \"y\": y};\n",
       "};\n",
       "\n",
       "/*\n",
       " * return a copy of an object with only non-object keys\n",
       " * we need this to avoid circular references\n",
       " * http://stackoverflow.com/a/24161582/3208463\n",
       " */\n",
       "function simpleKeys (original) {\n",
       "  return Object.keys(original).reduce(function (obj, key) {\n",
       "    if (typeof original[key] !== 'object')\n",
       "        obj[key] = original[key]\n",
       "    return obj;\n",
       "  }, {});\n",
       "}\n",
       "\n",
       "mpl.figure.prototype.mouse_event = function(event, name) {\n",
       "    var canvas_pos = mpl.findpos(event)\n",
       "\n",
       "    if (name === 'button_press')\n",
       "    {\n",
       "        this.canvas.focus();\n",
       "        this.canvas_div.focus();\n",
       "    }\n",
       "\n",
       "    var x = canvas_pos.x * mpl.ratio;\n",
       "    var y = canvas_pos.y * mpl.ratio;\n",
       "\n",
       "    this.send_message(name, {x: x, y: y, button: event.button,\n",
       "                             step: event.step,\n",
       "                             guiEvent: simpleKeys(event)});\n",
       "\n",
       "    /* This prevents the web browser from automatically changing to\n",
       "     * the text insertion cursor when the button is pressed.  We want\n",
       "     * to control all of the cursor setting manually through the\n",
       "     * 'cursor' event from matplotlib */\n",
       "    event.preventDefault();\n",
       "    return false;\n",
       "}\n",
       "\n",
       "mpl.figure.prototype._key_event_extra = function(event, name) {\n",
       "    // Handle any extra behaviour associated with a key event\n",
       "}\n",
       "\n",
       "mpl.figure.prototype.key_event = function(event, name) {\n",
       "\n",
       "    // Prevent repeat events\n",
       "    if (name == 'key_press')\n",
       "    {\n",
       "        if (event.which === this._key)\n",
       "            return;\n",
       "        else\n",
       "            this._key = event.which;\n",
       "    }\n",
       "    if (name == 'key_release')\n",
       "        this._key = null;\n",
       "\n",
       "    var value = '';\n",
       "    if (event.ctrlKey && event.which != 17)\n",
       "        value += \"ctrl+\";\n",
       "    if (event.altKey && event.which != 18)\n",
       "        value += \"alt+\";\n",
       "    if (event.shiftKey && event.which != 16)\n",
       "        value += \"shift+\";\n",
       "\n",
       "    value += 'k';\n",
       "    value += event.which.toString();\n",
       "\n",
       "    this._key_event_extra(event, name);\n",
       "\n",
       "    this.send_message(name, {key: value,\n",
       "                             guiEvent: simpleKeys(event)});\n",
       "    return false;\n",
       "}\n",
       "\n",
       "mpl.figure.prototype.toolbar_button_onclick = function(name) {\n",
       "    if (name == 'download') {\n",
       "        this.handle_save(this, null);\n",
       "    } else {\n",
       "        this.send_message(\"toolbar_button\", {name: name});\n",
       "    }\n",
       "};\n",
       "\n",
       "mpl.figure.prototype.toolbar_button_onmouseover = function(tooltip) {\n",
       "    this.message.textContent = tooltip;\n",
       "};\n",
       "mpl.toolbar_items = [[\"Home\", \"Reset original view\", \"fa fa-home icon-home\", \"home\"], [\"Back\", \"Back to  previous view\", \"fa fa-arrow-left icon-arrow-left\", \"back\"], [\"Forward\", \"Forward to next view\", \"fa fa-arrow-right icon-arrow-right\", \"forward\"], [\"\", \"\", \"\", \"\"], [\"Pan\", \"Pan axes with left mouse, zoom with right\", \"fa fa-arrows icon-move\", \"pan\"], [\"Zoom\", \"Zoom to rectangle\", \"fa fa-square-o icon-check-empty\", \"zoom\"], [\"\", \"\", \"\", \"\"], [\"Download\", \"Download plot\", \"fa fa-floppy-o icon-save\", \"download\"]];\n",
       "\n",
       "mpl.extensions = [\"eps\", \"jpeg\", \"pdf\", \"png\", \"ps\", \"raw\", \"svg\", \"tif\"];\n",
       "\n",
       "mpl.default_extension = \"png\";var comm_websocket_adapter = function(comm) {\n",
       "    // Create a \"websocket\"-like object which calls the given IPython comm\n",
       "    // object with the appropriate methods. Currently this is a non binary\n",
       "    // socket, so there is still some room for performance tuning.\n",
       "    var ws = {};\n",
       "\n",
       "    ws.close = function() {\n",
       "        comm.close()\n",
       "    };\n",
       "    ws.send = function(m) {\n",
       "        //console.log('sending', m);\n",
       "        comm.send(m);\n",
       "    };\n",
       "    // Register the callback with on_msg.\n",
       "    comm.on_msg(function(msg) {\n",
       "        //console.log('receiving', msg['content']['data'], msg);\n",
       "        // Pass the mpl event to the overridden (by mpl) onmessage function.\n",
       "        ws.onmessage(msg['content']['data'])\n",
       "    });\n",
       "    return ws;\n",
       "}\n",
       "\n",
       "mpl.mpl_figure_comm = function(comm, msg) {\n",
       "    // This is the function which gets called when the mpl process\n",
       "    // starts-up an IPython Comm through the \"matplotlib\" channel.\n",
       "\n",
       "    var id = msg.content.data.id;\n",
       "    // Get hold of the div created by the display call when the Comm\n",
       "    // socket was opened in Python.\n",
       "    var element = $(\"#\" + id);\n",
       "    var ws_proxy = comm_websocket_adapter(comm)\n",
       "\n",
       "    function ondownload(figure, format) {\n",
       "        window.open(figure.imageObj.src);\n",
       "    }\n",
       "\n",
       "    var fig = new mpl.figure(id, ws_proxy,\n",
       "                           ondownload,\n",
       "                           element.get(0));\n",
       "\n",
       "    // Call onopen now - mpl needs it, as it is assuming we've passed it a real\n",
       "    // web socket which is closed, not our websocket->open comm proxy.\n",
       "    ws_proxy.onopen();\n",
       "\n",
       "    fig.parent_element = element.get(0);\n",
       "    fig.cell_info = mpl.find_output_cell(\"<div id='\" + id + \"'></div>\");\n",
       "    if (!fig.cell_info) {\n",
       "        console.error(\"Failed to find cell for figure\", id, fig);\n",
       "        return;\n",
       "    }\n",
       "\n",
       "    var output_index = fig.cell_info[2]\n",
       "    var cell = fig.cell_info[0];\n",
       "\n",
       "};\n",
       "\n",
       "mpl.figure.prototype.handle_close = function(fig, msg) {\n",
       "    var width = fig.canvas.width/mpl.ratio\n",
       "    fig.root.unbind('remove')\n",
       "\n",
       "    // Update the output cell to use the data from the current canvas.\n",
       "    fig.push_to_output();\n",
       "    var dataURL = fig.canvas.toDataURL();\n",
       "    // Re-enable the keyboard manager in IPython - without this line, in FF,\n",
       "    // the notebook keyboard shortcuts fail.\n",
       "    IPython.keyboard_manager.enable()\n",
       "    $(fig.parent_element).html('<img src=\"' + dataURL + '\" width=\"' + width + '\">');\n",
       "    fig.close_ws(fig, msg);\n",
       "}\n",
       "\n",
       "mpl.figure.prototype.close_ws = function(fig, msg){\n",
       "    fig.send_message('closing', msg);\n",
       "    // fig.ws.close()\n",
       "}\n",
       "\n",
       "mpl.figure.prototype.push_to_output = function(remove_interactive) {\n",
       "    // Turn the data on the canvas into data in the output cell.\n",
       "    var width = this.canvas.width/mpl.ratio\n",
       "    var dataURL = this.canvas.toDataURL();\n",
       "    this.cell_info[1]['text/html'] = '<img src=\"' + dataURL + '\" width=\"' + width + '\">';\n",
       "}\n",
       "\n",
       "mpl.figure.prototype.updated_canvas_event = function() {\n",
       "    // Tell IPython that the notebook contents must change.\n",
       "    IPython.notebook.set_dirty(true);\n",
       "    this.send_message(\"ack\", {});\n",
       "    var fig = this;\n",
       "    // Wait a second, then push the new image to the DOM so\n",
       "    // that it is saved nicely (might be nice to debounce this).\n",
       "    setTimeout(function () { fig.push_to_output() }, 1000);\n",
       "}\n",
       "\n",
       "mpl.figure.prototype._init_toolbar = function() {\n",
       "    var fig = this;\n",
       "\n",
       "    var nav_element = $('<div/>')\n",
       "    nav_element.attr('style', 'width: 100%');\n",
       "    this.root.append(nav_element);\n",
       "\n",
       "    // Define a callback function for later on.\n",
       "    function toolbar_event(event) {\n",
       "        return fig.toolbar_button_onclick(event['data']);\n",
       "    }\n",
       "    function toolbar_mouse_event(event) {\n",
       "        return fig.toolbar_button_onmouseover(event['data']);\n",
       "    }\n",
       "\n",
       "    for(var toolbar_ind in mpl.toolbar_items){\n",
       "        var name = mpl.toolbar_items[toolbar_ind][0];\n",
       "        var tooltip = mpl.toolbar_items[toolbar_ind][1];\n",
       "        var image = mpl.toolbar_items[toolbar_ind][2];\n",
       "        var method_name = mpl.toolbar_items[toolbar_ind][3];\n",
       "\n",
       "        if (!name) { continue; };\n",
       "\n",
       "        var button = $('<button class=\"btn btn-default\" href=\"#\" title=\"' + name + '\"><i class=\"fa ' + image + ' fa-lg\"></i></button>');\n",
       "        button.click(method_name, toolbar_event);\n",
       "        button.mouseover(tooltip, toolbar_mouse_event);\n",
       "        nav_element.append(button);\n",
       "    }\n",
       "\n",
       "    // Add the status bar.\n",
       "    var status_bar = $('<span class=\"mpl-message\" style=\"text-align:right; float: right;\"/>');\n",
       "    nav_element.append(status_bar);\n",
       "    this.message = status_bar[0];\n",
       "\n",
       "    // Add the close button to the window.\n",
       "    var buttongrp = $('<div class=\"btn-group inline pull-right\"></div>');\n",
       "    var button = $('<button class=\"btn btn-mini btn-primary\" href=\"#\" title=\"Stop Interaction\"><i class=\"fa fa-power-off icon-remove icon-large\"></i></button>');\n",
       "    button.click(function (evt) { fig.handle_close(fig, {}); } );\n",
       "    button.mouseover('Stop Interaction', toolbar_mouse_event);\n",
       "    buttongrp.append(button);\n",
       "    var titlebar = this.root.find($('.ui-dialog-titlebar'));\n",
       "    titlebar.prepend(buttongrp);\n",
       "}\n",
       "\n",
       "mpl.figure.prototype._root_extra_style = function(el){\n",
       "    var fig = this\n",
       "    el.on(\"remove\", function(){\n",
       "\tfig.close_ws(fig, {});\n",
       "    });\n",
       "}\n",
       "\n",
       "mpl.figure.prototype._canvas_extra_style = function(el){\n",
       "    // this is important to make the div 'focusable\n",
       "    el.attr('tabindex', 0)\n",
       "    // reach out to IPython and tell the keyboard manager to turn it's self\n",
       "    // off when our div gets focus\n",
       "\n",
       "    // location in version 3\n",
       "    if (IPython.notebook.keyboard_manager) {\n",
       "        IPython.notebook.keyboard_manager.register_events(el);\n",
       "    }\n",
       "    else {\n",
       "        // location in version 2\n",
       "        IPython.keyboard_manager.register_events(el);\n",
       "    }\n",
       "\n",
       "}\n",
       "\n",
       "mpl.figure.prototype._key_event_extra = function(event, name) {\n",
       "    var manager = IPython.notebook.keyboard_manager;\n",
       "    if (!manager)\n",
       "        manager = IPython.keyboard_manager;\n",
       "\n",
       "    // Check for shift+enter\n",
       "    if (event.shiftKey && event.which == 13) {\n",
       "        this.canvas_div.blur();\n",
       "        event.shiftKey = false;\n",
       "        // Send a \"J\" for go to next cell\n",
       "        event.which = 74;\n",
       "        event.keyCode = 74;\n",
       "        manager.command_mode();\n",
       "        manager.handle_keydown(event);\n",
       "    }\n",
       "}\n",
       "\n",
       "mpl.figure.prototype.handle_save = function(fig, msg) {\n",
       "    fig.ondownload(fig, null);\n",
       "}\n",
       "\n",
       "\n",
       "mpl.find_output_cell = function(html_output) {\n",
       "    // Return the cell and output element which can be found *uniquely* in the notebook.\n",
       "    // Note - this is a bit hacky, but it is done because the \"notebook_saving.Notebook\"\n",
       "    // IPython event is triggered only after the cells have been serialised, which for\n",
       "    // our purposes (turning an active figure into a static one), is too late.\n",
       "    var cells = IPython.notebook.get_cells();\n",
       "    var ncells = cells.length;\n",
       "    for (var i=0; i<ncells; i++) {\n",
       "        var cell = cells[i];\n",
       "        if (cell.cell_type === 'code'){\n",
       "            for (var j=0; j<cell.output_area.outputs.length; j++) {\n",
       "                var data = cell.output_area.outputs[j];\n",
       "                if (data.data) {\n",
       "                    // IPython >= 3 moved mimebundle to data attribute of output\n",
       "                    data = data.data;\n",
       "                }\n",
       "                if (data['text/html'] == html_output) {\n",
       "                    return [cell, data, j];\n",
       "                }\n",
       "            }\n",
       "        }\n",
       "    }\n",
       "}\n",
       "\n",
       "// Register the function which deals with the matplotlib target/channel.\n",
       "// The kernel may be null if the page has been refreshed.\n",
       "if (IPython.notebook.kernel != null) {\n",
       "    IPython.notebook.kernel.comm_manager.register_target('matplotlib', mpl.mpl_figure_comm);\n",
       "}\n"
      ],
      "text/plain": [
       "<IPython.core.display.Javascript object>"
      ]
     },
     "metadata": {},
     "output_type": "display_data"
    },
    {
     "data": {
      "text/html": [
       "<img src=\"data:image/png;base64,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\" width=\"640\">"
      ],
      "text/plain": [
       "<IPython.core.display.HTML object>"
      ]
     },
     "metadata": {},
     "output_type": "display_data"
    }
   ],
   "source": [
    "dt = np.arange(0, c[0]+10, 0.001)\n",
    "min_dist = np.sqrt(min((x(c[0]-T0+dt,c[1],C,-u0_)-x(c[0]+dt, alpha,0, u0))**2 + (y(c[0]-T0+dt,c[1],0,u0_)-y(c[0]+dt, alpha,0, u0))**2))\n",
    "\n",
    "fig = plt.figure()\n",
    "ax = fig.add_subplot(111)\n",
    "ax.grid()\n",
    "def plotter(t):\n",
    "    #ax.clear()\n",
    "    if t < c[0]+3:\n",
    "        ax.plot(x(t), y(t), 'r*')\n",
    "    if(T1 < t < T0):\n",
    "        ax.plot(xe[:min(int(t)-T1, T0+1-T1)], ye[:min(int(t)-T1, T0+1-T1)],'-')\n",
    "    if T0 < t and y(t-T0,alpha_,0,u0_) > 0:\n",
    "        ax.plot(x(t-T0,alpha_,C,-u0_), y(t-T0,alpha_,0,u0_),'b*')\n",
    "    if T0 < t < c[0] or (T0 <t and min_dist > 100):\n",
    "        ax.plot( x(t-T0, c[1],C,-u0_), y(t-T0, c[1], 0, u0_), 'go')\n",
    "        ax.plot(x(t, alpha,0, u0), koef[0,0]*x(t)**2 + koef[1,0]*x(t) + koef[2,0], 'v') \n"
   ]
  },
  {
   "cell_type": "markdown",
   "metadata": {
    "ExecuteTime": {
     "end_time": "2018-10-13T20:15:27.875608Z",
     "start_time": "2018-10-13T20:15:27.871606Z"
    },
    "variables": {
     "round(abs(x0), 5)": "56.4167",
     "round(alpha_*180/pi, 5)": "5.4075",
     "round(c[0], 5)": "61.30904",
     "round(c[1]*180/pi, 5)": "38.98671",
     "round(flight_time, 5)": "144.20965",
     "round(max(abs(y(te) - ye)), 5)": "242.06912",
     "round(min_dist, 5)": "309.33097"
    }
   },
   "source": [
    "Полное время полета: {{round(flight_time, 5)}}\n",
    "\n",
    "Максимальное отклонение наблюдений от реальной траектории {{round(max(abs(y(te) - ye)), 5)}}\n",
    "\n",
    "Время перехвата: {{round(c[0], 5)}}\n",
    "\n",
    "Угол запуска ракеты перехватчика {{round(c[1]*180/pi, 5)}}\n",
    "\n",
    "Минимальное расстояние перехватчик - ракета {{round(min_dist, 5)}}\n",
    "\n",
    "Угол запуска ракеты возмездия {{round(alpha_*180/pi, 5)}}\n",
    "\n",
    "Точность ракеты возмездия {{round(abs(x0), 5)}}"
   ]
  },
  {
   "cell_type": "code",
   "execution_count": 99,
   "metadata": {
    "ExecuteTime": {
     "end_time": "2018-10-18T14:08:35.536728Z",
     "start_time": "2018-10-18T14:08:35.506731Z"
    }
   },
   "outputs": [
    {
     "data": {
      "application/vnd.jupyter.widget-view+json": {
       "model_id": "3681a0a167f446f3b2a47ba8437eb1bc",
       "version_major": 2,
       "version_minor": 0
      },
      "text/plain": [
       "interactive(children=(FloatSlider(value=0.0, description='t', max=144.20964981651179, step=1.0), Output()), _d…"
      ]
     },
     "metadata": {},
     "output_type": "display_data"
    }
   ],
   "source": [
    "interact(plotter, t=widgets.FloatSlider(min=0,max=flight_time,step=1,value=0,width='500px'));"
   ]
  },
  {
   "cell_type": "markdown",
   "metadata": {
    "ExecuteTime": {
     "end_time": "2018-10-13T20:28:25.983108Z",
     "start_time": "2018-10-13T20:28:25.979108Z"
    }
   },
   "source": [
    "## Результат моделирования                 "
   ]
  },
  {
   "cell_type": "code",
   "execution_count": null,
   "metadata": {},
   "outputs": [],
   "source": []
  }
 ],
 "metadata": {
  "kernelspec": {
   "display_name": "Python 3",
   "language": "python",
   "name": "python3"
  },
  "language_info": {
   "codemirror_mode": {
    "name": "ipython",
    "version": 3
   },
   "file_extension": ".py",
   "mimetype": "text/x-python",
   "name": "python",
   "nbconvert_exporter": "python",
   "pygments_lexer": "ipython3",
   "version": "3.6.6"
  },
  "latex_envs": {
   "LaTeX_envs_menu_present": true,
   "autoclose": false,
   "autocomplete": true,
   "bibliofile": "biblio.bib",
   "cite_by": "apalike",
   "current_citInitial": 1,
   "eqLabelWithNumbers": true,
   "eqNumInitial": 1,
   "hotkeys": {
    "equation": "Ctrl-E",
    "itemize": "Ctrl-I"
   },
   "labels_anchors": false,
   "latex_user_defs": false,
   "report_style_numbering": false,
   "user_envs_cfg": false
  },
  "varInspector": {
   "cols": {
    "lenName": 16,
    "lenType": 16,
    "lenVar": 40
   },
   "kernels_config": {
    "python": {
     "delete_cmd_postfix": "",
     "delete_cmd_prefix": "del ",
     "library": "var_list.py",
     "varRefreshCmd": "print(var_dic_list())"
    },
    "r": {
     "delete_cmd_postfix": ") ",
     "delete_cmd_prefix": "rm(",
     "library": "var_list.r",
     "varRefreshCmd": "cat(var_dic_list()) "
    }
   },
   "types_to_exclude": [
    "module",
    "function",
    "builtin_function_or_method",
    "instance",
    "_Feature"
   ],
   "window_display": false
  },
  "widgets": {
   "application/vnd.jupyter.widget-state+json": {
    "state": {
     "085dddad998443a3a7a43afd72dceb87": {
      "model_module": "@jupyter-widgets/controls",
      "model_module_version": "1.4.0",
      "model_name": "DescriptionStyleModel",
      "state": {
       "description_width": "initial"
      }
     },
     "0d0eccf53ea14d7a930b303c6d90e6d5": {
      "model_module": "@jupyter-widgets/base",
      "model_module_version": "1.1.0",
      "model_name": "LayoutModel",
      "state": {}
     },
     "1258a8bfb48c4b4eaff0e921a8a6a82a": {
      "model_module": "@jupyter-widgets/base",
      "model_module_version": "1.1.0",
      "model_name": "LayoutModel",
      "state": {}
     },
     "12c6843e8cfd43afa97e210fef092e41": {
      "model_module": "@jupyter-widgets/base",
      "model_module_version": "1.1.0",
      "model_name": "LayoutModel",
      "state": {}
     },
     "156c45142713451ba805929dc77db9cd": {
      "model_module": "@jupyter-widgets/base",
      "model_module_version": "1.1.0",
      "model_name": "LayoutModel",
      "state": {}
     },
     "161487a90ee142dea6626116a9cbd783": {
      "model_module": "@jupyter-widgets/base",
      "model_module_version": "1.1.0",
      "model_name": "LayoutModel",
      "state": {}
     },
     "1719538d0f53434b8dfda531a43f8671": {
      "model_module": "@jupyter-widgets/controls",
      "model_module_version": "1.4.0",
      "model_name": "FloatTextModel",
      "state": {
       "description": "Скорость противоракеты",
       "layout": "IPY_MODEL_2cb2611ac0244c0cb62f8c9b44ae16f4",
       "step": null,
       "style": "IPY_MODEL_8c9ffe8434694717bc5ba0cd0b3f661d",
       "value": 2000
      }
     },
     "1e0bc6bb85ea4b35acf4f8e6d4a29270": {
      "model_module": "@jupyter-widgets/controls",
      "model_module_version": "1.4.0",
      "model_name": "DescriptionStyleModel",
      "state": {
       "description_width": "initial"
      }
     },
     "1e28542b5bfd4a72a2ae315f881d054f": {
      "model_module": "@jupyter-widgets/controls",
      "model_module_version": "1.4.0",
      "model_name": "FloatTextModel",
      "state": {
       "description": "Скорость ракеты",
       "layout": "IPY_MODEL_4d28934aa50747c799d323b1fa2b68b0",
       "step": null,
       "style": "IPY_MODEL_cc4969cb0f8c419c8bee529ea510fd9d",
       "value": 1000
      }
     },
     "21f348fb0c4b48559dc6f7cf704d787e": {
      "model_module": "@jupyter-widgets/controls",
      "model_module_version": "1.4.0",
      "model_name": "FloatTextModel",
      "state": {
       "description": "Угол старта ракеты",
       "layout": "IPY_MODEL_f4b3de1c77774ab99ce60b01b2fd2d0f",
       "step": null,
       "style": "IPY_MODEL_1e0bc6bb85ea4b35acf4f8e6d4a29270",
       "value": 0.7853981633974483
      }
     },
     "2cb2611ac0244c0cb62f8c9b44ae16f4": {
      "model_module": "@jupyter-widgets/base",
      "model_module_version": "1.1.0",
      "model_name": "LayoutModel",
      "state": {}
     },
     "31f1610de6384e3bb94d1f5daba028b3": {
      "model_module": "@jupyter-widgets/controls",
      "model_module_version": "1.4.0",
      "model_name": "FloatTextModel",
      "state": {
       "description": "Положение точки A",
       "layout": "IPY_MODEL_12c6843e8cfd43afa97e210fef092e41",
       "step": null,
       "style": "IPY_MODEL_5f0d92f97ffa4bf692caeeada4bc4b94"
      }
     },
     "353e425119f342c7a09478b9f2b576ad": {
      "model_module": "@jupyter-widgets/base",
      "model_module_version": "1.1.0",
      "model_name": "LayoutModel",
      "state": {}
     },
     "36ae4353b13a4553b1128e8445deeb6a": {
      "model_module": "@jupyter-widgets/controls",
      "model_module_version": "1.4.0",
      "model_name": "DescriptionStyleModel",
      "state": {
       "description_width": "initial"
      }
     },
     "3c5036feee2a4d86b1d6a0a87a4adc14": {
      "model_module": "@jupyter-widgets/controls",
      "model_module_version": "1.4.0",
      "model_name": "DescriptionStyleModel",
      "state": {
       "description_width": "initial"
      }
     },
     "4224404c126549fba4d0511499c287d9": {
      "model_module": "@jupyter-widgets/controls",
      "model_module_version": "1.4.0",
      "model_name": "IntTextModel",
      "state": {
       "description": "Время начала измерений",
       "layout": "IPY_MODEL_7205984569704d88b0d7a153e667f714",
       "step": 1,
       "style": "IPY_MODEL_f32069beff90454b86d1cdd249cc4ddf",
       "value": 40
      }
     },
     "498e59f93e0a43279298cb215f5b9b5a": {
      "model_module": "@jupyter-widgets/controls",
      "model_module_version": "1.4.0",
      "model_name": "IntTextModel",
      "state": {
       "description": "Время окончания измерений",
       "layout": "IPY_MODEL_d41f3193db0247eaad027438dcc7b560",
       "step": 1,
       "style": "IPY_MODEL_3c5036feee2a4d86b1d6a0a87a4adc14",
       "value": 15
      }
     },
     "49a4ac581ad644229c4602b6f6a984a6": {
      "model_module": "@jupyter-widgets/controls",
      "model_module_version": "1.4.0",
      "model_name": "SliderStyleModel",
      "state": {
       "description_width": ""
      }
     },
     "4d28934aa50747c799d323b1fa2b68b0": {
      "model_module": "@jupyter-widgets/base",
      "model_module_version": "1.1.0",
      "model_name": "LayoutModel",
      "state": {}
     },
     "5027dc335cd743a5b36af17e12b5cf7d": {
      "model_module": "@jupyter-widgets/controls",
      "model_module_version": "1.4.0",
      "model_name": "DescriptionStyleModel",
      "state": {
       "description_width": "initial"
      }
     },
     "583c880776094ae9b020f639b5a60af4": {
      "model_module": "@jupyter-widgets/base",
      "model_module_version": "1.1.0",
      "model_name": "LayoutModel",
      "state": {}
     },
     "5af63002b70a469b9a67bf27cfa034c6": {
      "model_module": "@jupyter-widgets/controls",
      "model_module_version": "1.4.0",
      "model_name": "DescriptionStyleModel",
      "state": {
       "description_width": "initial"
      }
     },
     "5b4d3ecf3fa3465d95a5303051594c41": {
      "model_module": "@jupyter-widgets/base",
      "model_module_version": "1.1.0",
      "model_name": "LayoutModel",
      "state": {}
     },
     "5f0d92f97ffa4bf692caeeada4bc4b94": {
      "model_module": "@jupyter-widgets/controls",
      "model_module_version": "1.4.0",
      "model_name": "DescriptionStyleModel",
      "state": {
       "description_width": "initial"
      }
     },
     "5fc57e8e496a4de5937170b0a83f39b5": {
      "model_module": "@jupyter-widgets/base",
      "model_module_version": "1.1.0",
      "model_name": "LayoutModel",
      "state": {}
     },
     "623713405a9f443eb21034038b04880d": {
      "model_module": "@jupyter-widgets/base",
      "model_module_version": "1.1.0",
      "model_name": "LayoutModel",
      "state": {}
     },
     "64c4588e74aa4541a2f2ff84ce4fa2b7": {
      "model_module": "@jupyter-widgets/controls",
      "model_module_version": "1.4.0",
      "model_name": "IntTextModel",
      "state": {
       "description": "Время окончания измерений",
       "layout": "IPY_MODEL_b393dfdcc3084035aa422c54d7702f84",
       "step": 1,
       "style": "IPY_MODEL_5af63002b70a469b9a67bf27cfa034c6",
       "value": 15
      }
     },
     "68bd7d97cedc4407966675fd7c48b582": {
      "model_module": "@jupyter-widgets/output",
      "model_module_version": "1.0.0",
      "model_name": "OutputModel",
      "state": {
       "layout": "IPY_MODEL_353e425119f342c7a09478b9f2b576ad"
      }
     },
     "68cd8437c7a94a588b342a49d9b82707": {
      "model_module": "@jupyter-widgets/controls",
      "model_module_version": "1.4.0",
      "model_name": "VBoxModel",
      "state": {
       "_dom_classes": [
        "widget-interact"
       ],
       "children": [
        "IPY_MODEL_e8446824359e4124ba633e0694f07596",
        "IPY_MODEL_80c9da100f0c4a72b16709eb733be6ac"
       ],
       "layout": "IPY_MODEL_5fc57e8e496a4de5937170b0a83f39b5"
      }
     },
     "71e9026a89e1436aa036f7e53d186cc4": {
      "model_module": "@jupyter-widgets/controls",
      "model_module_version": "1.4.0",
      "model_name": "DescriptionStyleModel",
      "state": {
       "description_width": "initial"
      }
     },
     "7205984569704d88b0d7a153e667f714": {
      "model_module": "@jupyter-widgets/base",
      "model_module_version": "1.1.0",
      "model_name": "LayoutModel",
      "state": {}
     },
     "726bded009784914b5949e0f32add008": {
      "model_module": "@jupyter-widgets/controls",
      "model_module_version": "1.4.0",
      "model_name": "FloatTextModel",
      "state": {
       "description": "Угол старта ракеты",
       "layout": "IPY_MODEL_7374a86555ba46f9ba3f526378974ee3",
       "step": null,
       "style": "IPY_MODEL_a32534219ecd40d8a967229e103626ef",
       "value": 0.7853981633974483
      }
     },
     "7374a86555ba46f9ba3f526378974ee3": {
      "model_module": "@jupyter-widgets/base",
      "model_module_version": "1.1.0",
      "model_name": "LayoutModel",
      "state": {}
     },
     "748fad138847441697983d35365b7910": {
      "model_module": "@jupyter-widgets/controls",
      "model_module_version": "1.4.0",
      "model_name": "DescriptionStyleModel",
      "state": {
       "description_width": "initial"
      }
     },
     "770ceff0f9b8401bb30542939fc19f32": {
      "model_module": "@jupyter-widgets/controls",
      "model_module_version": "1.4.0",
      "model_name": "FloatTextModel",
      "state": {
       "description": "Положение точки A",
       "layout": "IPY_MODEL_623713405a9f443eb21034038b04880d",
       "step": null,
       "style": "IPY_MODEL_71e9026a89e1436aa036f7e53d186cc4"
      }
     },
     "798afa6d77bd48498ea9b09cd5f35058": {
      "model_module": "@jupyter-widgets/controls",
      "model_module_version": "1.4.0",
      "model_name": "FloatTextModel",
      "state": {
       "description": "Скорость ракеты",
       "layout": "IPY_MODEL_156c45142713451ba805929dc77db9cd",
       "step": null,
       "style": "IPY_MODEL_89a3be29aba94d1a95b60f1013ff8484",
       "value": 1000
      }
     },
     "80c9da100f0c4a72b16709eb733be6ac": {
      "model_module": "@jupyter-widgets/output",
      "model_module_version": "1.0.0",
      "model_name": "OutputModel",
      "state": {
       "layout": "IPY_MODEL_d277ab4224784a26a22d9d0d3adde319"
      }
     },
     "89a3be29aba94d1a95b60f1013ff8484": {
      "model_module": "@jupyter-widgets/controls",
      "model_module_version": "1.4.0",
      "model_name": "DescriptionStyleModel",
      "state": {
       "description_width": "initial"
      }
     },
     "8c9ffe8434694717bc5ba0cd0b3f661d": {
      "model_module": "@jupyter-widgets/controls",
      "model_module_version": "1.4.0",
      "model_name": "DescriptionStyleModel",
      "state": {
       "description_width": "initial"
      }
     },
     "a32534219ecd40d8a967229e103626ef": {
      "model_module": "@jupyter-widgets/controls",
      "model_module_version": "1.4.0",
      "model_name": "DescriptionStyleModel",
      "state": {
       "description_width": "initial"
      }
     },
     "a56f17aede9347f49a6e798474bf7815": {
      "model_module": "@jupyter-widgets/controls",
      "model_module_version": "1.4.0",
      "model_name": "FloatTextModel",
      "state": {
       "description": "Размер ошибки",
       "layout": "IPY_MODEL_5b4d3ecf3fa3465d95a5303051594c41",
       "step": null,
       "style": "IPY_MODEL_748fad138847441697983d35365b7910",
       "value": 0.01
      }
     },
     "b393dfdcc3084035aa422c54d7702f84": {
      "model_module": "@jupyter-widgets/base",
      "model_module_version": "1.1.0",
      "model_name": "LayoutModel",
      "state": {}
     },
     "b550975d1972491e88b816c885d59f42": {
      "model_module": "@jupyter-widgets/controls",
      "model_module_version": "1.4.0",
      "model_name": "IntTextModel",
      "state": {
       "description": "Время начала измерений",
       "layout": "IPY_MODEL_161487a90ee142dea6626116a9cbd783",
       "step": 1,
       "style": "IPY_MODEL_5027dc335cd743a5b36af17e12b5cf7d",
       "value": 40
      }
     },
     "c0b93717f84d4a24becf290873946fba": {
      "model_module": "@jupyter-widgets/controls",
      "model_module_version": "1.4.0",
      "model_name": "VBoxModel",
      "state": {
       "_dom_classes": [
        "widget-interact"
       ],
       "children": [
        "IPY_MODEL_dfda75ff6b704926b39dddc8c12f739e",
        "IPY_MODEL_68bd7d97cedc4407966675fd7c48b582"
       ],
       "layout": "IPY_MODEL_da5589e45b644148ba714557b6514964"
      }
     },
     "c5e24e286afe437aa91156a2896a0099": {
      "model_module": "@jupyter-widgets/controls",
      "model_module_version": "1.4.0",
      "model_name": "FloatTextModel",
      "state": {
       "description": "Размер ошибки",
       "layout": "IPY_MODEL_cec3c028978b4d16bda05af56b0adfa8",
       "step": null,
       "style": "IPY_MODEL_085dddad998443a3a7a43afd72dceb87",
       "value": 0.01
      }
     },
     "cc4969cb0f8c419c8bee529ea510fd9d": {
      "model_module": "@jupyter-widgets/controls",
      "model_module_version": "1.4.0",
      "model_name": "DescriptionStyleModel",
      "state": {
       "description_width": "initial"
      }
     },
     "cec3c028978b4d16bda05af56b0adfa8": {
      "model_module": "@jupyter-widgets/base",
      "model_module_version": "1.1.0",
      "model_name": "LayoutModel",
      "state": {}
     },
     "d231d599bf1b41faa254f186a8396f94": {
      "model_module": "@jupyter-widgets/controls",
      "model_module_version": "1.4.0",
      "model_name": "FloatTextModel",
      "state": {
       "description": "Скорость противоракеты",
       "layout": "IPY_MODEL_583c880776094ae9b020f639b5a60af4",
       "step": null,
       "style": "IPY_MODEL_36ae4353b13a4553b1128e8445deeb6a",
       "value": 2000
      }
     },
     "d277ab4224784a26a22d9d0d3adde319": {
      "model_module": "@jupyter-widgets/base",
      "model_module_version": "1.1.0",
      "model_name": "LayoutModel",
      "state": {}
     },
     "d41f3193db0247eaad027438dcc7b560": {
      "model_module": "@jupyter-widgets/base",
      "model_module_version": "1.1.0",
      "model_name": "LayoutModel",
      "state": {}
     },
     "da5589e45b644148ba714557b6514964": {
      "model_module": "@jupyter-widgets/base",
      "model_module_version": "1.1.0",
      "model_name": "LayoutModel",
      "state": {}
     },
     "dfda75ff6b704926b39dddc8c12f739e": {
      "model_module": "@jupyter-widgets/controls",
      "model_module_version": "1.4.0",
      "model_name": "FloatSliderModel",
      "state": {
       "description": "t",
       "layout": "IPY_MODEL_1258a8bfb48c4b4eaff0e921a8a6a82a",
       "max": 144.20964981651179,
       "style": "IPY_MODEL_fe4d141195f2413a9a0356b3951c79a9",
       "value": 144
      }
     },
     "e8446824359e4124ba633e0694f07596": {
      "model_module": "@jupyter-widgets/controls",
      "model_module_version": "1.4.0",
      "model_name": "FloatSliderModel",
      "state": {
       "description": "t",
       "layout": "IPY_MODEL_0d0eccf53ea14d7a930b303c6d90e6d5",
       "max": 144.20964981651179,
       "style": "IPY_MODEL_49a4ac581ad644229c4602b6f6a984a6"
      }
     },
     "f32069beff90454b86d1cdd249cc4ddf": {
      "model_module": "@jupyter-widgets/controls",
      "model_module_version": "1.4.0",
      "model_name": "DescriptionStyleModel",
      "state": {
       "description_width": "initial"
      }
     },
     "f4b3de1c77774ab99ce60b01b2fd2d0f": {
      "model_module": "@jupyter-widgets/base",
      "model_module_version": "1.1.0",
      "model_name": "LayoutModel",
      "state": {}
     },
     "fe4d141195f2413a9a0356b3951c79a9": {
      "model_module": "@jupyter-widgets/controls",
      "model_module_version": "1.4.0",
      "model_name": "SliderStyleModel",
      "state": {
       "description_width": ""
      }
     }
    },
    "version_major": 2,
    "version_minor": 0
   }
  }
 },
 "nbformat": 4,
 "nbformat_minor": 2
}
